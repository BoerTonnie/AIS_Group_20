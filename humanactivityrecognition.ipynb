{
 "cells": [
  {
   "cell_type": "markdown",
   "metadata": {},
   "source": [
    "# **🧍Human Activity Recognition**"
   ]
  },
  {
   "cell_type": "code",
   "execution_count": 9,
   "metadata": {
    "execution": {
     "iopub.execute_input": "2021-08-02T05:51:18.379930Z",
     "iopub.status.busy": "2021-08-02T05:51:18.379366Z",
     "iopub.status.idle": "2021-08-02T05:51:27.086195Z",
     "shell.execute_reply": "2021-08-02T05:51:27.085087Z",
     "shell.execute_reply.started": "2021-08-02T05:51:18.379796Z"
    },
    "trusted": true
   },
   "outputs": [],
   "source": [
    "# import libraries\n",
    "import os\n",
    "import time\n",
    "\n",
    "import pandas as pd\n",
    "import numpy as np\n",
    "import matplotlib.pyplot as plt\n",
    "import seaborn as sns\n",
    "from plotly.offline import init_notebook_mode, iplot\n",
    "import plotly.graph_objs as go\n",
    "from matplotlib.colors import rgb2hex\n",
    "from matplotlib.cm import get_cmap\n",
    "import plotly.express as px\n",
    "from plotly.subplots import make_subplots\n",
    "import plotly.figure_factory as ff\n",
    "from mpl_toolkits import mplot3d\n",
    "from pylab import rcParams\n",
    "\n",
    "from sklearn.manifold import TSNE\n",
    "from sklearn.decomposition import PCA\n",
    "from sklearn.preprocessing import LabelEncoder\n",
    "from sklearn.linear_model import LogisticRegression,RidgeClassifier\n",
    "from sklearn.metrics import confusion_matrix, classification_report, accuracy_score, f1_score\n",
    "from sklearn.model_selection import RandomizedSearchCV\n",
    "from sklearn.svm import SVC\n",
    "from sklearn.tree import DecisionTreeClassifier\n",
    "from sklearn.ensemble import RandomForestClassifier, StackingClassifier, GradientBoostingClassifier\n",
    "import xgboost\n",
    "from sklearn.neighbors import KNeighborsClassifier\n",
    "from sklearn.naive_bayes import GaussianNB\n",
    "\n",
    "from tensorflow.keras.models import Sequential\n",
    "from tensorflow.keras.layers import Dense, Dropout, BatchNormalization\n",
    "from tensorflow.keras.utils import to_categorical\n",
    "from tensorflow.keras.optimizers import RMSprop, Adam\n",
    "\n",
    "\n",
    "import warnings\n",
    "warnings.filterwarnings('ignore')\n",
    "\n",
    "sns.set(rc={'figure.facecolor':'#ffffff'})"
   ]
  },
  {
   "cell_type": "code",
   "execution_count": 10,
   "metadata": {
    "execution": {
     "iopub.execute_input": "2021-08-02T05:51:27.088359Z",
     "iopub.status.busy": "2021-08-02T05:51:27.087937Z",
     "iopub.status.idle": "2021-08-02T05:51:27.106039Z",
     "shell.execute_reply": "2021-08-02T05:51:27.104993Z",
     "shell.execute_reply.started": "2021-08-02T05:51:27.088313Z"
    },
    "trusted": true
   },
   "outputs": [],
   "source": [
    "# get data\n",
    "for dirname, _, filenames in os.walk('/kaggle/input'):\n",
    "    for filename in filenames:\n",
    "        print(os.path.join(dirname, filename))"
   ]
  },
  {
   "cell_type": "code",
   "execution_count": 11,
   "metadata": {
    "execution": {
     "iopub.execute_input": "2021-08-02T05:51:27.108496Z",
     "iopub.status.busy": "2021-08-02T05:51:27.108110Z",
     "iopub.status.idle": "2021-08-02T05:51:29.145877Z",
     "shell.execute_reply": "2021-08-02T05:51:29.145032Z",
     "shell.execute_reply.started": "2021-08-02T05:51:27.108455Z"
    },
    "trusted": true
   },
   "outputs": [
    {
     "ename": "FileNotFoundError",
     "evalue": "[Errno 2] No such file or directory: '/kaggle/input/human-activity-recognition-with-smartphones/train.csv'",
     "output_type": "error",
     "traceback": [
      "\u001b[1;31m---------------------------------------------------------------------------\u001b[0m",
      "\u001b[1;31mFileNotFoundError\u001b[0m                         Traceback (most recent call last)",
      "Cell \u001b[1;32mIn[11], line 2\u001b[0m\n\u001b[0;32m      1\u001b[0m \u001b[38;5;66;03m# load data\u001b[39;00m\n\u001b[1;32m----> 2\u001b[0m df_train \u001b[38;5;241m=\u001b[39m pd\u001b[38;5;241m.\u001b[39mread_csv(\u001b[38;5;124m'\u001b[39m\u001b[38;5;124m/kaggle/input/human-activity-recognition-with-smartphones/train.csv\u001b[39m\u001b[38;5;124m'\u001b[39m)\n\u001b[0;32m      3\u001b[0m df_test \u001b[38;5;241m=\u001b[39m pd\u001b[38;5;241m.\u001b[39mread_csv(\u001b[38;5;124m'\u001b[39m\u001b[38;5;124m/kaggle/input/human-activity-recognition-with-smartphones/test.csv\u001b[39m\u001b[38;5;124m'\u001b[39m)\n",
      "File \u001b[1;32md:\\Anaconda\\Lib\\site-packages\\pandas\\io\\parsers\\readers.py:1026\u001b[0m, in \u001b[0;36mread_csv\u001b[1;34m(filepath_or_buffer, sep, delimiter, header, names, index_col, usecols, dtype, engine, converters, true_values, false_values, skipinitialspace, skiprows, skipfooter, nrows, na_values, keep_default_na, na_filter, verbose, skip_blank_lines, parse_dates, infer_datetime_format, keep_date_col, date_parser, date_format, dayfirst, cache_dates, iterator, chunksize, compression, thousands, decimal, lineterminator, quotechar, quoting, doublequote, escapechar, comment, encoding, encoding_errors, dialect, on_bad_lines, delim_whitespace, low_memory, memory_map, float_precision, storage_options, dtype_backend)\u001b[0m\n\u001b[0;32m   1013\u001b[0m kwds_defaults \u001b[38;5;241m=\u001b[39m _refine_defaults_read(\n\u001b[0;32m   1014\u001b[0m     dialect,\n\u001b[0;32m   1015\u001b[0m     delimiter,\n\u001b[1;32m   (...)\u001b[0m\n\u001b[0;32m   1022\u001b[0m     dtype_backend\u001b[38;5;241m=\u001b[39mdtype_backend,\n\u001b[0;32m   1023\u001b[0m )\n\u001b[0;32m   1024\u001b[0m kwds\u001b[38;5;241m.\u001b[39mupdate(kwds_defaults)\n\u001b[1;32m-> 1026\u001b[0m \u001b[38;5;28;01mreturn\u001b[39;00m _read(filepath_or_buffer, kwds)\n",
      "File \u001b[1;32md:\\Anaconda\\Lib\\site-packages\\pandas\\io\\parsers\\readers.py:620\u001b[0m, in \u001b[0;36m_read\u001b[1;34m(filepath_or_buffer, kwds)\u001b[0m\n\u001b[0;32m    617\u001b[0m _validate_names(kwds\u001b[38;5;241m.\u001b[39mget(\u001b[38;5;124m\"\u001b[39m\u001b[38;5;124mnames\u001b[39m\u001b[38;5;124m\"\u001b[39m, \u001b[38;5;28;01mNone\u001b[39;00m))\n\u001b[0;32m    619\u001b[0m \u001b[38;5;66;03m# Create the parser.\u001b[39;00m\n\u001b[1;32m--> 620\u001b[0m parser \u001b[38;5;241m=\u001b[39m TextFileReader(filepath_or_buffer, \u001b[38;5;241m*\u001b[39m\u001b[38;5;241m*\u001b[39mkwds)\n\u001b[0;32m    622\u001b[0m \u001b[38;5;28;01mif\u001b[39;00m chunksize \u001b[38;5;129;01mor\u001b[39;00m iterator:\n\u001b[0;32m    623\u001b[0m     \u001b[38;5;28;01mreturn\u001b[39;00m parser\n",
      "File \u001b[1;32md:\\Anaconda\\Lib\\site-packages\\pandas\\io\\parsers\\readers.py:1620\u001b[0m, in \u001b[0;36mTextFileReader.__init__\u001b[1;34m(self, f, engine, **kwds)\u001b[0m\n\u001b[0;32m   1617\u001b[0m     \u001b[38;5;28mself\u001b[39m\u001b[38;5;241m.\u001b[39moptions[\u001b[38;5;124m\"\u001b[39m\u001b[38;5;124mhas_index_names\u001b[39m\u001b[38;5;124m\"\u001b[39m] \u001b[38;5;241m=\u001b[39m kwds[\u001b[38;5;124m\"\u001b[39m\u001b[38;5;124mhas_index_names\u001b[39m\u001b[38;5;124m\"\u001b[39m]\n\u001b[0;32m   1619\u001b[0m \u001b[38;5;28mself\u001b[39m\u001b[38;5;241m.\u001b[39mhandles: IOHandles \u001b[38;5;241m|\u001b[39m \u001b[38;5;28;01mNone\u001b[39;00m \u001b[38;5;241m=\u001b[39m \u001b[38;5;28;01mNone\u001b[39;00m\n\u001b[1;32m-> 1620\u001b[0m \u001b[38;5;28mself\u001b[39m\u001b[38;5;241m.\u001b[39m_engine \u001b[38;5;241m=\u001b[39m \u001b[38;5;28mself\u001b[39m\u001b[38;5;241m.\u001b[39m_make_engine(f, \u001b[38;5;28mself\u001b[39m\u001b[38;5;241m.\u001b[39mengine)\n",
      "File \u001b[1;32md:\\Anaconda\\Lib\\site-packages\\pandas\\io\\parsers\\readers.py:1880\u001b[0m, in \u001b[0;36mTextFileReader._make_engine\u001b[1;34m(self, f, engine)\u001b[0m\n\u001b[0;32m   1878\u001b[0m     \u001b[38;5;28;01mif\u001b[39;00m \u001b[38;5;124m\"\u001b[39m\u001b[38;5;124mb\u001b[39m\u001b[38;5;124m\"\u001b[39m \u001b[38;5;129;01mnot\u001b[39;00m \u001b[38;5;129;01min\u001b[39;00m mode:\n\u001b[0;32m   1879\u001b[0m         mode \u001b[38;5;241m+\u001b[39m\u001b[38;5;241m=\u001b[39m \u001b[38;5;124m\"\u001b[39m\u001b[38;5;124mb\u001b[39m\u001b[38;5;124m\"\u001b[39m\n\u001b[1;32m-> 1880\u001b[0m \u001b[38;5;28mself\u001b[39m\u001b[38;5;241m.\u001b[39mhandles \u001b[38;5;241m=\u001b[39m get_handle(\n\u001b[0;32m   1881\u001b[0m     f,\n\u001b[0;32m   1882\u001b[0m     mode,\n\u001b[0;32m   1883\u001b[0m     encoding\u001b[38;5;241m=\u001b[39m\u001b[38;5;28mself\u001b[39m\u001b[38;5;241m.\u001b[39moptions\u001b[38;5;241m.\u001b[39mget(\u001b[38;5;124m\"\u001b[39m\u001b[38;5;124mencoding\u001b[39m\u001b[38;5;124m\"\u001b[39m, \u001b[38;5;28;01mNone\u001b[39;00m),\n\u001b[0;32m   1884\u001b[0m     compression\u001b[38;5;241m=\u001b[39m\u001b[38;5;28mself\u001b[39m\u001b[38;5;241m.\u001b[39moptions\u001b[38;5;241m.\u001b[39mget(\u001b[38;5;124m\"\u001b[39m\u001b[38;5;124mcompression\u001b[39m\u001b[38;5;124m\"\u001b[39m, \u001b[38;5;28;01mNone\u001b[39;00m),\n\u001b[0;32m   1885\u001b[0m     memory_map\u001b[38;5;241m=\u001b[39m\u001b[38;5;28mself\u001b[39m\u001b[38;5;241m.\u001b[39moptions\u001b[38;5;241m.\u001b[39mget(\u001b[38;5;124m\"\u001b[39m\u001b[38;5;124mmemory_map\u001b[39m\u001b[38;5;124m\"\u001b[39m, \u001b[38;5;28;01mFalse\u001b[39;00m),\n\u001b[0;32m   1886\u001b[0m     is_text\u001b[38;5;241m=\u001b[39mis_text,\n\u001b[0;32m   1887\u001b[0m     errors\u001b[38;5;241m=\u001b[39m\u001b[38;5;28mself\u001b[39m\u001b[38;5;241m.\u001b[39moptions\u001b[38;5;241m.\u001b[39mget(\u001b[38;5;124m\"\u001b[39m\u001b[38;5;124mencoding_errors\u001b[39m\u001b[38;5;124m\"\u001b[39m, \u001b[38;5;124m\"\u001b[39m\u001b[38;5;124mstrict\u001b[39m\u001b[38;5;124m\"\u001b[39m),\n\u001b[0;32m   1888\u001b[0m     storage_options\u001b[38;5;241m=\u001b[39m\u001b[38;5;28mself\u001b[39m\u001b[38;5;241m.\u001b[39moptions\u001b[38;5;241m.\u001b[39mget(\u001b[38;5;124m\"\u001b[39m\u001b[38;5;124mstorage_options\u001b[39m\u001b[38;5;124m\"\u001b[39m, \u001b[38;5;28;01mNone\u001b[39;00m),\n\u001b[0;32m   1889\u001b[0m )\n\u001b[0;32m   1890\u001b[0m \u001b[38;5;28;01massert\u001b[39;00m \u001b[38;5;28mself\u001b[39m\u001b[38;5;241m.\u001b[39mhandles \u001b[38;5;129;01mis\u001b[39;00m \u001b[38;5;129;01mnot\u001b[39;00m \u001b[38;5;28;01mNone\u001b[39;00m\n\u001b[0;32m   1891\u001b[0m f \u001b[38;5;241m=\u001b[39m \u001b[38;5;28mself\u001b[39m\u001b[38;5;241m.\u001b[39mhandles\u001b[38;5;241m.\u001b[39mhandle\n",
      "File \u001b[1;32md:\\Anaconda\\Lib\\site-packages\\pandas\\io\\common.py:873\u001b[0m, in \u001b[0;36mget_handle\u001b[1;34m(path_or_buf, mode, encoding, compression, memory_map, is_text, errors, storage_options)\u001b[0m\n\u001b[0;32m    868\u001b[0m \u001b[38;5;28;01melif\u001b[39;00m \u001b[38;5;28misinstance\u001b[39m(handle, \u001b[38;5;28mstr\u001b[39m):\n\u001b[0;32m    869\u001b[0m     \u001b[38;5;66;03m# Check whether the filename is to be opened in binary mode.\u001b[39;00m\n\u001b[0;32m    870\u001b[0m     \u001b[38;5;66;03m# Binary mode does not support 'encoding' and 'newline'.\u001b[39;00m\n\u001b[0;32m    871\u001b[0m     \u001b[38;5;28;01mif\u001b[39;00m ioargs\u001b[38;5;241m.\u001b[39mencoding \u001b[38;5;129;01mand\u001b[39;00m \u001b[38;5;124m\"\u001b[39m\u001b[38;5;124mb\u001b[39m\u001b[38;5;124m\"\u001b[39m \u001b[38;5;129;01mnot\u001b[39;00m \u001b[38;5;129;01min\u001b[39;00m ioargs\u001b[38;5;241m.\u001b[39mmode:\n\u001b[0;32m    872\u001b[0m         \u001b[38;5;66;03m# Encoding\u001b[39;00m\n\u001b[1;32m--> 873\u001b[0m         handle \u001b[38;5;241m=\u001b[39m \u001b[38;5;28mopen\u001b[39m(\n\u001b[0;32m    874\u001b[0m             handle,\n\u001b[0;32m    875\u001b[0m             ioargs\u001b[38;5;241m.\u001b[39mmode,\n\u001b[0;32m    876\u001b[0m             encoding\u001b[38;5;241m=\u001b[39mioargs\u001b[38;5;241m.\u001b[39mencoding,\n\u001b[0;32m    877\u001b[0m             errors\u001b[38;5;241m=\u001b[39merrors,\n\u001b[0;32m    878\u001b[0m             newline\u001b[38;5;241m=\u001b[39m\u001b[38;5;124m\"\u001b[39m\u001b[38;5;124m\"\u001b[39m,\n\u001b[0;32m    879\u001b[0m         )\n\u001b[0;32m    880\u001b[0m     \u001b[38;5;28;01melse\u001b[39;00m:\n\u001b[0;32m    881\u001b[0m         \u001b[38;5;66;03m# Binary mode\u001b[39;00m\n\u001b[0;32m    882\u001b[0m         handle \u001b[38;5;241m=\u001b[39m \u001b[38;5;28mopen\u001b[39m(handle, ioargs\u001b[38;5;241m.\u001b[39mmode)\n",
      "\u001b[1;31mFileNotFoundError\u001b[0m: [Errno 2] No such file or directory: '/kaggle/input/human-activity-recognition-with-smartphones/train.csv'"
     ]
    }
   ],
   "source": [
    "# load data\n",
    "df_train = pd.read_csv('/kaggle/input/human-activity-recognition-with-smartphones/train.csv')\n",
    "df_test = pd.read_csv('/kaggle/input/human-activity-recognition-with-smartphones/test.csv')"
   ]
  },
  {
   "cell_type": "code",
   "execution_count": null,
   "metadata": {
    "execution": {
     "iopub.execute_input": "2021-08-02T05:51:29.149840Z",
     "iopub.status.busy": "2021-08-02T05:51:29.149589Z",
     "iopub.status.idle": "2021-08-02T05:51:29.156511Z",
     "shell.execute_reply": "2021-08-02T05:51:29.155624Z",
     "shell.execute_reply.started": "2021-08-02T05:51:29.149815Z"
    },
    "trusted": true
   },
   "outputs": [],
   "source": [
    "# shape data\n",
    "print(f\"Train Dataset Shape: {df_train.shape}\")\n",
    "print(f\"Test Dataset Shape: {df_test.shape}\")"
   ]
  },
  {
   "cell_type": "code",
   "execution_count": null,
   "metadata": {
    "execution": {
     "iopub.execute_input": "2021-08-02T05:51:29.158389Z",
     "iopub.status.busy": "2021-08-02T05:51:29.157889Z",
     "iopub.status.idle": "2021-08-02T05:51:29.187878Z",
     "shell.execute_reply": "2021-08-02T05:51:29.186964Z",
     "shell.execute_reply.started": "2021-08-02T05:51:29.158325Z"
    },
    "trusted": true
   },
   "outputs": [],
   "source": [
    "# missing data counts\n",
    "print(f\"Train Dataset Missing Data Counts: {df_train.isna().sum().sum()}\")\n",
    "print(f\"Test Dataset Missing Data Counts: {df_test.isna().sum().sum()}\")"
   ]
  },
  {
   "cell_type": "code",
   "execution_count": null,
   "metadata": {
    "execution": {
     "iopub.execute_input": "2021-08-02T05:51:29.189521Z",
     "iopub.status.busy": "2021-08-02T05:51:29.189172Z",
     "iopub.status.idle": "2021-08-02T05:51:29.902795Z",
     "shell.execute_reply": "2021-08-02T05:51:29.901723Z",
     "shell.execute_reply.started": "2021-08-02T05:51:29.189486Z"
    },
    "trusted": true
   },
   "outputs": [],
   "source": [
    "# duplicates data counts\n",
    "print(f\"Train Dataset Duplicate Data Counts: {df_train.duplicated().sum()}\")\n",
    "print(f\"Test Dataset Duplicate Data Counts: {df_test.duplicated().sum()}\")"
   ]
  },
  {
   "cell_type": "code",
   "execution_count": null,
   "metadata": {
    "execution": {
     "iopub.execute_input": "2021-08-02T05:51:29.904689Z",
     "iopub.status.busy": "2021-08-02T05:51:29.904191Z",
     "iopub.status.idle": "2021-08-02T05:51:31.218944Z",
     "shell.execute_reply": "2021-08-02T05:51:31.217995Z",
     "shell.execute_reply.started": "2021-08-02T05:51:29.904647Z"
    },
    "trusted": true
   },
   "outputs": [],
   "source": [
    "# check data balanced or not for train\n",
    "plt.figure(figsize=(25, 5))\n",
    "count_plot=sns.countplot(data=df_train, x='subject', hue='Activity')\n",
    "plt.gca().tick_params(axis='x')\n",
    "plt.gca().tick_params(axis='y')\n",
    "plt.xlabel( xlabel='Subjects')\n",
    "plt.ylabel( ylabel='Activity Counts')\n",
    "plt.legend([\"Standing\", \"Seating\", \"Laying\", \"Walking\", \"Walking Downstairs\", \"Walking Upstairs\"],bbox_to_anchor = (0.25, 1.1), ncol=6, loc='upper center')\n",
    "plt.title(\"Subjects Wise Activity Counts Train Set\", fontsize=25, loc='left', pad=50, fontfamily=\"roboto\")\n",
    "plt.show()\n",
    "\n",
    "\n",
    "plt.figure(figsize=(5, 5))\n",
    "label_counts = df_train['Activity'].value_counts()\n",
    "colors = px.colors.qualitative.Plotly\n",
    "\n",
    "graph = go.Bar(x=label_counts.index, y=label_counts.values, marker = dict(color = colors))\n",
    "layout = go.Layout(\n",
    "    height=450, width=1100,\n",
    "    title = 'Acticity Counts Distribution Train Set',\n",
    "    xaxis = dict(title = 'Activity', tickangle=0, showgrid=False),\n",
    "    yaxis = dict(title = 'Count', showgrid=False),\n",
    "    plot_bgcolor='#2d3035', paper_bgcolor='#2d3035',\n",
    "    title_font=dict(size=25, color='#a5a7ab', family='roboto'),\n",
    "    margin=dict(t=80, b=30, l=70, r=40),\n",
    "    font=dict(color='#8a8d93'))\n",
    "fig = go.Figure(data=[graph], layout = layout)\n",
    "fig.update_traces(textfont=dict(color='#fff'), marker=dict(line=dict(color='#ffffff', width=2)))\n",
    "\n",
    "iplot(fig)"
   ]
  },
  {
   "cell_type": "code",
   "execution_count": null,
   "metadata": {
    "execution": {
     "iopub.execute_input": "2021-08-02T05:51:31.222166Z",
     "iopub.status.busy": "2021-08-02T05:51:31.221813Z",
     "iopub.status.idle": "2021-08-02T05:51:31.647126Z",
     "shell.execute_reply": "2021-08-02T05:51:31.646023Z",
     "shell.execute_reply.started": "2021-08-02T05:51:31.222129Z"
    },
    "trusted": true
   },
   "outputs": [],
   "source": [
    "# check data balanced or not for train\n",
    "plt.figure(figsize=(25, 5))\n",
    "count_plot=sns.countplot(data=df_test, x='subject', hue='Activity')\n",
    "plt.gca().tick_params(axis='x')\n",
    "plt.gca().tick_params(axis='y')\n",
    "plt.xlabel( xlabel='Subjects')\n",
    "plt.ylabel( ylabel='Activity Counts')\n",
    "plt.legend([\"Standing\", \"Seating\", \"Laying\", \"Walking\", \"Walking Downstairs\", \"Walking Upstairs\"],bbox_to_anchor = (0.25, 1.1), ncol=6, loc='upper center')\n",
    "plt.title(\"Subjects Wise Activity Counts For Test Set\", fontsize=25, loc='left', pad=50, fontfamily=\"roboto\")\n",
    "plt.show()\n",
    "\n",
    "\n",
    "plt.figure(figsize=(5, 5))\n",
    "label_counts = df_test['Activity'].value_counts()\n",
    "colors = px.colors.qualitative.Plotly\n",
    "\n",
    "graph = go.Bar(x=label_counts.index, y=label_counts.values, marker = dict(color = colors))\n",
    "layout = go.Layout(\n",
    "    height=450, width=1100,\n",
    "    title = 'Acticity Counts Distribution For Test Set',\n",
    "    xaxis = dict(title = 'Activity', tickangle=0, showgrid=False),\n",
    "    yaxis = dict(title = 'Count', showgrid=False),\n",
    "    plot_bgcolor='#2d3035', paper_bgcolor='#2d3035',\n",
    "    title_font=dict(size=25, color='#a5a7ab', family='roboto'),\n",
    "    margin=dict(t=80, b=30, l=70, r=40),\n",
    "    font=dict(color='#8a8d93'))\n",
    "fig = go.Figure(data=[graph], layout = layout)\n",
    "fig.update_traces(textfont=dict(color='#fff'), marker=dict(line=dict(color='#ffffff', width=2)))\n",
    "\n",
    "iplot(fig)"
   ]
  },
  {
   "cell_type": "code",
   "execution_count": null,
   "metadata": {
    "execution": {
     "iopub.execute_input": "2021-08-02T05:51:31.649738Z",
     "iopub.status.busy": "2021-08-02T05:51:31.649339Z",
     "iopub.status.idle": "2021-08-02T05:51:31.778359Z",
     "shell.execute_reply": "2021-08-02T05:51:31.777257Z",
     "shell.execute_reply.started": "2021-08-02T05:51:31.649697Z"
    },
    "trusted": true
   },
   "outputs": [],
   "source": [
    "# Acticity Counts Distribution For Train & Test Set using pie chart\n",
    "label_counts_for_train = df_train['Activity'].value_counts()\n",
    "colors = px.colors.qualitative.Plotly\n",
    "\n",
    "label_counts_for_test = df_test['Activity'].value_counts()\n",
    "\n",
    "\n",
    "fig = make_subplots(rows=1, cols=2, specs=[[{'type':'domain'},{'type':'domain'}]])\n",
    "fig.add_trace(go.Pie(hole=0.5, labels=label_counts_for_train.index, values=label_counts_for_train.values, name=\"Train Set\"), 1, 1)\n",
    "fig.add_trace(go.Pie(hole=0.5, labels=label_counts_for_test.index, values=label_counts_for_test.values, name=\"Test Set\"), 1, 2)\n",
    "\n",
    "fig.update_layout(\n",
    "#     height=450, width=1100,\n",
    "    title = 'Acticity Counts Distribution For Train & Test Set',\n",
    "    xaxis = dict(title = 'Activity', tickangle=0, showgrid=False),\n",
    "    yaxis = dict(title = 'Count', showgrid=False),\n",
    "    plot_bgcolor='#2d3035', paper_bgcolor='#2d3035',\n",
    "    title_font=dict(size=25, color='#a5a7ab', family='roboto'),\n",
    "#     margin=dict(t=80, b=30, l=70, r=40),\n",
    "    font=dict(color='#8a8d93'))\n",
    "# graph = go.Figure(data=[graph], layout = layout)\n",
    "fig.update_traces(textfont=dict(color='#fff'), marker=dict(line=dict(color='#ffffff', width=2)))\n",
    "fig.show()"
   ]
  },
  {
   "cell_type": "code",
   "execution_count": null,
   "metadata": {
    "execution": {
     "iopub.execute_input": "2021-08-02T05:51:31.780267Z",
     "iopub.status.busy": "2021-08-02T05:51:31.779843Z",
     "iopub.status.idle": "2021-08-02T05:51:31.816000Z",
     "shell.execute_reply": "2021-08-02T05:51:31.815052Z",
     "shell.execute_reply.started": "2021-08-02T05:51:31.780216Z"
    },
    "trusted": true
   },
   "outputs": [],
   "source": [
    "# fig = make_subplots(rows=1, cols=2, specs=[[{'type':'domain'},{'type':'domain'}]])\n",
    "fig = go.Figure()\n",
    "fig.add_trace(go.Box(y=df_train['subject'], name=\"Train Set\", notched=True))\n",
    "fig.add_trace(go.Box( y=df_test['subject'], name=\"Test Set\", notched=True))\n",
    "\n",
    "\n",
    "fig.update_xaxes(showgrid=False)\n",
    "fig.update_layout(\n",
    "    title=\"Check Outliers In Train & Test\",\n",
    "    height=500, width=500,\n",
    "    title_font=dict(size=25, color='#a5a7ab', family='Muli'),\n",
    "    font=dict(color='#8a8d93'),\n",
    "    plot_bgcolor='#2d3035', paper_bgcolor='#2d3035',\n",
    "    margin=dict(t=100, b=10, l=70, r=40), \n",
    "    )\n",
    "fig.update_xaxes(showgrid=False)\n",
    "fig.update_yaxes(showgrid=False)\n"
   ]
  },
  {
   "cell_type": "code",
   "execution_count": null,
   "metadata": {
    "execution": {
     "iopub.execute_input": "2021-08-02T05:51:31.817896Z",
     "iopub.status.busy": "2021-08-02T05:51:31.817526Z",
     "iopub.status.idle": "2021-08-02T05:51:31.859822Z",
     "shell.execute_reply": "2021-08-02T05:51:31.858890Z",
     "shell.execute_reply.started": "2021-08-02T05:51:31.817859Z"
    },
    "trusted": true
   },
   "outputs": [],
   "source": [
    "# Accelerometer & Gyroscope Columns Counts\n",
    "acc = 0\n",
    "gyro = 0\n",
    "other = 0\n",
    "\n",
    "for value in df_train.columns:\n",
    "    if \"Acc\" in str(value):\n",
    "        acc += 1\n",
    "    elif \"Gyro\" in str(value):\n",
    "        gyro += 1\n",
    "    else:\n",
    "        other += 1\n",
    "\n",
    "graph = go.Bar(x=['Accelerometer', 'Gyroscope', 'Others'], y=[acc,gyro,other], marker = dict(color = colors))\n",
    "layout = go.Layout(\n",
    "    height=450, width=500,\n",
    "    title = 'Accelerometer & Gyroscope Columns Counts',\n",
    "    xaxis = dict(title = 'Activity', tickangle=0, showgrid=False),\n",
    "    yaxis = dict(title = 'Count', showgrid=False),\n",
    "    plot_bgcolor='#2d3035', paper_bgcolor='#2d3035',\n",
    "    title_font=dict(size=25, color='#a5a7ab', family='roboto'),\n",
    "    margin=dict(t=80, b=30, l=70, r=40),\n",
    "    font=dict(color='#8a8d93'))\n",
    "fig = go.Figure(data=[graph], layout = layout)\n",
    "fig.update_traces(textfont=dict(color='#fff'), marker=dict(line=dict(color='#ffffff', width=2)))\n",
    "\n",
    "iplot(fig)"
   ]
  },
  {
   "cell_type": "code",
   "execution_count": null,
   "metadata": {
    "execution": {
     "iopub.execute_input": "2021-08-02T05:51:31.861478Z",
     "iopub.status.busy": "2021-08-02T05:51:31.861146Z",
     "iopub.status.idle": "2021-08-02T05:51:32.018567Z",
     "shell.execute_reply": "2021-08-02T05:51:32.017620Z",
     "shell.execute_reply.started": "2021-08-02T05:51:31.861445Z"
    },
    "trusted": true
   },
   "outputs": [],
   "source": [
    "pd.crosstab(df_train.subject, df_train.Activity, margins = True).style.background_gradient(cmap='Paired')"
   ]
  },
  {
   "cell_type": "code",
   "execution_count": null,
   "metadata": {
    "execution": {
     "iopub.execute_input": "2021-08-02T05:51:32.020654Z",
     "iopub.status.busy": "2021-08-02T05:51:32.020270Z",
     "iopub.status.idle": "2021-08-02T05:51:32.095647Z",
     "shell.execute_reply": "2021-08-02T05:51:32.094922Z",
     "shell.execute_reply.started": "2021-08-02T05:51:32.020609Z"
    },
    "trusted": true
   },
   "outputs": [],
   "source": [
    "pd.crosstab(df_test.subject, df_test.Activity, margins = True).style.background_gradient(cmap='Paired')"
   ]
  },
  {
   "cell_type": "code",
   "execution_count": null,
   "metadata": {
    "execution": {
     "iopub.execute_input": "2021-08-02T05:51:32.098271Z",
     "iopub.status.busy": "2021-08-02T05:51:32.097967Z",
     "iopub.status.idle": "2021-08-02T05:51:32.111779Z",
     "shell.execute_reply": "2021-08-02T05:51:32.111039Z",
     "shell.execute_reply.started": "2021-08-02T05:51:32.098241Z"
    },
    "trusted": true
   },
   "outputs": [],
   "source": [
    "# update columns name\n",
    "columns_name = df_train.columns\n",
    "\n",
    "columns_name = columns_name.str.replace('[()]','')\n",
    "columns_name = columns_name.str.replace('[-]', '')\n",
    "columns_name = columns_name.str.replace('[,]','')\n",
    "\n",
    "df_train.columns = columns_name\n",
    "df_train.columns = columns_name"
   ]
  },
  {
   "cell_type": "code",
   "execution_count": null,
   "metadata": {
    "execution": {
     "iopub.execute_input": "2021-08-02T05:51:32.113579Z",
     "iopub.status.busy": "2021-08-02T05:51:32.113236Z",
     "iopub.status.idle": "2021-08-02T05:51:32.486940Z",
     "shell.execute_reply": "2021-08-02T05:51:32.486129Z",
     "shell.execute_reply.started": "2021-08-02T05:51:32.113547Z"
    },
    "trusted": true
   },
   "outputs": [],
   "source": [
    "plt.figure(figsize=(20, 5))\n",
    "bbox = dict(boxstyle =\"larrow,pad=0.5\", fc=\"w\", ec=\"b\", lw=2)\n",
    "  \n",
    "sns.set_context(context='poster', font_scale=0.5)\n",
    "sns.kdeplot(df_train['tBodyAccMagmean'], hue=df_train['Activity'])\n",
    "\n",
    "plt.annotate(\n",
    "    text=\"Static Activities\",\n",
    "    xy=(-0.9, 1.5),\n",
    "    bbox = bbox,\n",
    "    rotation=15)\n",
    "plt.annotate(\n",
    "    text=\"Dynamic Activities\",\n",
    "    xy=(0.0, 0.5),\n",
    "    bbox = bbox,\n",
    "    rotation=45)\n",
    "plt.title('Static Activities & Dynamic Activities Distributions Using \"tBodyAccMagmean\"', loc='left', fontsize=20, pad=20)\n",
    "plt.show()"
   ]
  },
  {
   "cell_type": "code",
   "execution_count": null,
   "metadata": {
    "execution": {
     "iopub.execute_input": "2021-08-02T05:51:32.488327Z",
     "iopub.status.busy": "2021-08-02T05:51:32.487973Z",
     "iopub.status.idle": "2021-08-02T05:51:32.829864Z",
     "shell.execute_reply": "2021-08-02T05:51:32.828775Z",
     "shell.execute_reply.started": "2021-08-02T05:51:32.488292Z"
    },
    "trusted": true
   },
   "outputs": [],
   "source": [
    "plt.figure(figsize=(20, 5))\n",
    "bbox = dict(boxstyle =\"larrow,pad=0.5\", fc=\"w\", ec=\"b\", lw=2)\n",
    "  \n",
    "sns.set_context(context='poster', font_scale=0.5)\n",
    "sns.kdeplot(df_train['angleXgravityMean'], hue=df_train['Activity'])\n",
    "\n",
    "plt.title('Static Activities & Dynamic Activities Distributions Using \"angleXgravityMean\"', loc='left', fontsize=20, pad=20)\n",
    "plt.show()"
   ]
  },
  {
   "cell_type": "code",
   "execution_count": null,
   "metadata": {
    "execution": {
     "iopub.execute_input": "2021-08-02T05:51:32.831865Z",
     "iopub.status.busy": "2021-08-02T05:51:32.831466Z",
     "iopub.status.idle": "2021-08-02T05:51:33.196231Z",
     "shell.execute_reply": "2021-08-02T05:51:33.195155Z",
     "shell.execute_reply.started": "2021-08-02T05:51:32.831823Z"
    },
    "trusted": true
   },
   "outputs": [],
   "source": [
    "plt.figure(figsize=(20, 5))\n",
    "bbox = dict(boxstyle =\"larrow,pad=0.5\", fc=\"w\", ec=\"b\", lw=2)\n",
    "  \n",
    "sns.set_context(context='poster', font_scale=0.5)\n",
    "sns.kdeplot(df_train['angleYgravityMean'], hue=df_train['Activity'])\n",
    "\n",
    "plt.title('Static Activities & Dynamic Activities Distributions Using \"angleYgravityMean\"', loc='left', fontsize=20, pad=20)\n",
    "plt.show()"
   ]
  },
  {
   "cell_type": "code",
   "execution_count": null,
   "metadata": {
    "execution": {
     "iopub.execute_input": "2021-08-02T05:51:33.198229Z",
     "iopub.status.busy": "2021-08-02T05:51:33.197811Z",
     "iopub.status.idle": "2021-08-02T05:52:32.030945Z",
     "shell.execute_reply": "2021-08-02T05:52:32.029967Z",
     "shell.execute_reply.started": "2021-08-02T05:51:33.198180Z"
    },
    "trusted": true
   },
   "outputs": [],
   "source": [
    "# t-sne (2D)\n",
    "x_for_tsne = df_train.drop(['subject', 'Activity'], axis=1)\n",
    "\n",
    "tsne = TSNE(random_state = 42, n_components=2, verbose=1, perplexity=50, n_iter=1000).fit_transform(x_for_tsne)\n",
    "plt.figure(figsize=(12,8))\n",
    "sns.scatterplot(x =tsne[:, 0], y = tsne[:, 1], hue = df_train[\"Activity\"],palette=\"bright\")"
   ]
  },
  {
   "cell_type": "code",
   "execution_count": null,
   "metadata": {
    "execution": {
     "iopub.execute_input": "2021-08-02T05:52:32.033243Z",
     "iopub.status.busy": "2021-08-02T05:52:32.032603Z",
     "iopub.status.idle": "2021-08-02T05:57:13.555797Z",
     "shell.execute_reply": "2021-08-02T05:57:13.555002Z",
     "shell.execute_reply.started": "2021-08-02T05:52:32.033197Z"
    },
    "trusted": true
   },
   "outputs": [],
   "source": [
    "# t-sne (3D)\n",
    "x_for_tsne = df_train.drop(['subject', 'Activity'], axis=1)\n",
    "\n",
    "tsne = TSNE(random_state = 42, n_components=3, verbose=1, perplexity=50, n_iter=1000).fit_transform(x_for_tsne)"
   ]
  },
  {
   "cell_type": "code",
   "execution_count": null,
   "metadata": {
    "execution": {
     "iopub.execute_input": "2021-08-02T05:57:13.561143Z",
     "iopub.status.busy": "2021-08-02T05:57:13.559269Z",
     "iopub.status.idle": "2021-08-02T05:57:13.743927Z",
     "shell.execute_reply": "2021-08-02T05:57:13.742990Z",
     "shell.execute_reply.started": "2021-08-02T05:57:13.561104Z"
    },
    "trusted": true
   },
   "outputs": [],
   "source": [
    "fig = px.scatter_3d(\n",
    "    x =tsne[:, 0],\n",
    "    y = tsne[:, 1],\n",
    "    z = tsne[:, 2],\n",
    "    color=df_train['Activity']\n",
    ")\n",
    "fig.update_layout(\n",
    "    title=\"Cluster Of Activities\",\n",
    "    title_font=dict(size=25, color='#a5a7ab', family='roboto'),\n",
    "    font=dict(color='#8a8d93'),\n",
    "    plot_bgcolor='#2d3035', paper_bgcolor='#2d3035',\n",
    "    margin=dict(t=100, b=10, l=70, r=40), \n",
    "    )\n",
    "fig.show()"
   ]
  },
  {
   "cell_type": "code",
   "execution_count": null,
   "metadata": {
    "execution": {
     "iopub.execute_input": "2021-08-02T05:57:13.745553Z",
     "iopub.status.busy": "2021-08-02T05:57:13.745241Z",
     "iopub.status.idle": "2021-08-02T05:57:13.760256Z",
     "shell.execute_reply": "2021-08-02T05:57:13.759266Z",
     "shell.execute_reply.started": "2021-08-02T05:57:13.745520Z"
    },
    "trusted": true
   },
   "outputs": [],
   "source": [
    "X_train, y_train = df_train.drop(['subject', 'Activity'], axis=1), df_train['Activity']"
   ]
  },
  {
   "cell_type": "code",
   "execution_count": null,
   "metadata": {
    "execution": {
     "iopub.execute_input": "2021-08-02T05:57:13.762137Z",
     "iopub.status.busy": "2021-08-02T05:57:13.761647Z",
     "iopub.status.idle": "2021-08-02T05:57:13.773879Z",
     "shell.execute_reply": "2021-08-02T05:57:13.772913Z",
     "shell.execute_reply.started": "2021-08-02T05:57:13.762100Z"
    },
    "trusted": true
   },
   "outputs": [],
   "source": [
    "X_test, y_test = df_test.drop(['subject', 'Activity'], axis=1), df_test['Activity']"
   ]
  },
  {
   "cell_type": "code",
   "execution_count": null,
   "metadata": {
    "execution": {
     "iopub.execute_input": "2021-08-02T05:57:13.780183Z",
     "iopub.status.busy": "2021-08-02T05:57:13.779816Z",
     "iopub.status.idle": "2021-08-02T05:57:14.780813Z",
     "shell.execute_reply": "2021-08-02T05:57:14.780046Z",
     "shell.execute_reply.started": "2021-08-02T05:57:13.780155Z"
    },
    "trusted": true
   },
   "outputs": [],
   "source": [
    "# pca with all comonents\n",
    "pca = PCA()\n",
    "X_pca = pca.fit_transform(X_train)\n",
    "\n",
    "# print(pca.n_components_)\n",
    "# print(pca.explained_variance_ratio_)\n",
    "# print(np.cumsum(pca.explained_variance_ratio_))\n",
    "fig = px.line(np.cumsum(pca.explained_variance_ratio_))\n",
    "fig.update_layout(\n",
    "    title=\"Screeplot Of All Principsl Components\",\n",
    "    title_font=dict(size=25, color='#a5a7ab', family='roboto'),\n",
    "    paper_bgcolor='#2d3035', plot_bgcolor='#2d3035',\n",
    "    font=dict(color='#a5a7ab'),\n",
    "    showlegend=False,\n",
    "    \n",
    "\n",
    ")\n",
    "fig.update_yaxes(showgrid=False, gridwidth=1, gridcolor='#a5a7ab')\n",
    "fig.update_xaxes(showgrid=True, gridwidth=1, gridcolor='#a5a7ab')\n"
   ]
  },
  {
   "cell_type": "code",
   "execution_count": null,
   "metadata": {
    "execution": {
     "iopub.execute_input": "2021-08-02T05:57:14.783373Z",
     "iopub.status.busy": "2021-08-02T05:57:14.782964Z",
     "iopub.status.idle": "2021-08-02T05:57:15.685076Z",
     "shell.execute_reply": "2021-08-02T05:57:15.683750Z",
     "shell.execute_reply.started": "2021-08-02T05:57:14.783333Z"
    },
    "trusted": true
   },
   "outputs": [],
   "source": [
    "# pca with 95% info\n",
    "pca = PCA(0.95)\n",
    "\n",
    "pca.fit(X_train)\n",
    "X_train = pca.transform(X_train)\n",
    "X_test = pca.transform(X_test)"
   ]
  },
  {
   "cell_type": "code",
   "execution_count": null,
   "metadata": {
    "execution": {
     "iopub.execute_input": "2021-08-02T05:57:15.687532Z",
     "iopub.status.busy": "2021-08-02T05:57:15.687113Z",
     "iopub.status.idle": "2021-08-02T05:57:15.699808Z",
     "shell.execute_reply": "2021-08-02T05:57:15.698878Z",
     "shell.execute_reply.started": "2021-08-02T05:57:15.687491Z"
    },
    "trusted": true
   },
   "outputs": [],
   "source": [
    "encoder = LabelEncoder()\n",
    "y_train=encoder.fit_transform(y_train)\n",
    "y_test=encoder.fit_transform(y_test)"
   ]
  },
  {
   "cell_type": "code",
   "execution_count": null,
   "metadata": {
    "execution": {
     "iopub.execute_input": "2021-08-02T05:57:15.701837Z",
     "iopub.status.busy": "2021-08-02T05:57:15.701238Z",
     "iopub.status.idle": "2021-08-02T05:57:15.712580Z",
     "shell.execute_reply": "2021-08-02T05:57:15.711685Z",
     "shell.execute_reply.started": "2021-08-02T05:57:15.701796Z"
    },
    "trusted": true
   },
   "outputs": [],
   "source": [
    "X_train.shape, y_train.shape, X_test.shape, y_test.shape"
   ]
  },
  {
   "cell_type": "code",
   "execution_count": null,
   "metadata": {
    "execution": {
     "iopub.execute_input": "2021-08-02T05:57:15.714800Z",
     "iopub.status.busy": "2021-08-02T05:57:15.714027Z",
     "iopub.status.idle": "2021-08-02T05:57:15.720780Z",
     "shell.execute_reply": "2021-08-02T05:57:15.719866Z",
     "shell.execute_reply.started": "2021-08-02T05:57:15.714754Z"
    },
    "trusted": true
   },
   "outputs": [],
   "source": [
    "# ML Modelling"
   ]
  },
  {
   "cell_type": "code",
   "execution_count": null,
   "metadata": {
    "execution": {
     "iopub.execute_input": "2021-08-02T05:57:15.722653Z",
     "iopub.status.busy": "2021-08-02T05:57:15.722050Z",
     "iopub.status.idle": "2021-08-02T05:57:15.733568Z",
     "shell.execute_reply": "2021-08-02T05:57:15.732538Z",
     "shell.execute_reply.started": "2021-08-02T05:57:15.722600Z"
    },
    "trusted": true
   },
   "outputs": [],
   "source": [
    "# function to plot confusion matrix\n",
    "def plot_confusion_matrix(cm,lables):\n",
    "    fig, ax = plt.subplots(figsize=(15,5)) # for plotting confusion matrix as image\n",
    "    im = ax.imshow(cm, interpolation='nearest', cmap=plt.cm.Blues)\n",
    "    ax.figure.colorbar(im, ax=ax)\n",
    "    ax.set(xticks=np.arange(cm.shape[1]),\n",
    "    yticks=np.arange(cm.shape[0]),\n",
    "    xticklabels=lables, yticklabels=lables,\n",
    "    ylabel='True label',\n",
    "    xlabel='Predicted label')\n",
    "    plt.xticks(rotation = 90)\n",
    "    plt.grid(b=False)\n",
    "    thresh = cm.max() / 2.\n",
    "    for i in range(cm.shape[0]):\n",
    "        for j in range(cm.shape[1]):\n",
    "            ax.text(j, i, int(cm[i, j]),ha=\"center\", va=\"center\",color=\"white\" if cm[i, j] > thresh else \"black\")\n",
    "    fig.tight_layout()"
   ]
  },
  {
   "cell_type": "code",
   "execution_count": null,
   "metadata": {
    "execution": {
     "iopub.execute_input": "2021-08-02T05:57:15.735353Z",
     "iopub.status.busy": "2021-08-02T05:57:15.734720Z",
     "iopub.status.idle": "2021-08-02T05:57:31.708534Z",
     "shell.execute_reply": "2021-08-02T05:57:31.707699Z",
     "shell.execute_reply.started": "2021-08-02T05:57:15.735212Z"
    },
    "trusted": true
   },
   "outputs": [],
   "source": [
    "# logistic regresssion\n",
    "lr_model = LogisticRegression()\n",
    "\n",
    "params = {\n",
    "    'C': np.arange(10,61,10),\n",
    "    'penalty': ['l2','l1']\n",
    "}\n",
    "\n",
    "random_cv = RandomizedSearchCV(lr_model, param_distributions=params, cv=5, random_state=42)\n",
    "random_cv.fit(X_train, y_train)"
   ]
  },
  {
   "cell_type": "code",
   "execution_count": null,
   "metadata": {
    "execution": {
     "iopub.execute_input": "2021-08-02T05:57:31.710253Z",
     "iopub.status.busy": "2021-08-02T05:57:31.709766Z",
     "iopub.status.idle": "2021-08-02T05:57:38.236830Z",
     "shell.execute_reply": "2021-08-02T05:57:38.235804Z",
     "shell.execute_reply.started": "2021-08-02T05:57:31.710213Z"
    },
    "trusted": true
   },
   "outputs": [],
   "source": [
    "lr_model = LogisticRegression(penalty='l2', C=10,solver='lbfgs',class_weight='balanced', max_iter=10000,random_state = 0)\n",
    "lr_model.fit(X_train, y_train)\n",
    "y_pred = lr_model.predict(X_test)\n",
    "\n",
    "lr_accuracy = accuracy_score(y_test, y_pred)\n",
    "print(\"Accuracy Of Logistic Regression : \", lr_accuracy)"
   ]
  },
  {
   "cell_type": "code",
   "execution_count": null,
   "metadata": {
    "execution": {
     "iopub.execute_input": "2021-08-02T05:57:38.239030Z",
     "iopub.status.busy": "2021-08-02T05:57:38.238364Z",
     "iopub.status.idle": "2021-08-02T05:57:38.677919Z",
     "shell.execute_reply": "2021-08-02T05:57:38.677145Z",
     "shell.execute_reply.started": "2021-08-02T05:57:38.238986Z"
    },
    "trusted": true
   },
   "outputs": [],
   "source": [
    "cm = confusion_matrix(y_test,y_pred)\n",
    "plot_confusion_matrix(cm, np.unique(y_pred))  "
   ]
  },
  {
   "cell_type": "code",
   "execution_count": null,
   "metadata": {
    "execution": {
     "iopub.execute_input": "2021-08-02T05:57:38.679542Z",
     "iopub.status.busy": "2021-08-02T05:57:38.679198Z",
     "iopub.status.idle": "2021-08-02T06:01:10.939133Z",
     "shell.execute_reply": "2021-08-02T06:01:10.938066Z",
     "shell.execute_reply.started": "2021-08-02T05:57:38.679506Z"
    },
    "trusted": true
   },
   "outputs": [],
   "source": [
    "# svc\n",
    "params = {\n",
    "    'C':[2,4,8,16],\n",
    "    'gamma': [0.125, 0.250, 0.5, 1]\n",
    "}\n",
    "svm_model = SVC(kernel='rbf')\n",
    "\n",
    "random_cv = RandomizedSearchCV(svm_model, param_distributions=params, random_state = 42, verbose=10)\n",
    "random_cv.fit(X_train, y_train)"
   ]
  },
  {
   "cell_type": "code",
   "execution_count": null,
   "metadata": {
    "execution": {
     "iopub.execute_input": "2021-08-02T06:01:10.940887Z",
     "iopub.status.busy": "2021-08-02T06:01:10.940508Z",
     "iopub.status.idle": "2021-08-02T06:01:10.949166Z",
     "shell.execute_reply": "2021-08-02T06:01:10.947907Z",
     "shell.execute_reply.started": "2021-08-02T06:01:10.940855Z"
    },
    "trusted": true
   },
   "outputs": [],
   "source": [
    "random_cv.best_params_"
   ]
  },
  {
   "cell_type": "code",
   "execution_count": null,
   "metadata": {
    "execution": {
     "iopub.execute_input": "2021-08-02T06:01:10.951652Z",
     "iopub.status.busy": "2021-08-02T06:01:10.951045Z",
     "iopub.status.idle": "2021-08-02T06:01:14.363034Z",
     "shell.execute_reply": "2021-08-02T06:01:14.362153Z",
     "shell.execute_reply.started": "2021-08-02T06:01:10.951610Z"
    },
    "trusted": true
   },
   "outputs": [],
   "source": [
    "svc_model = SVC(gamma=0.125, C=2)\n",
    "svc_model.fit(X_train, y_train)\n",
    "y_pred = svc_model.predict(X_test)\n",
    "\n",
    "svc_accuracy = accuracy_score(y_test, y_pred)\n",
    "print(\"Accuracy Of Logistic Regression : \", svc_accuracy)"
   ]
  },
  {
   "cell_type": "code",
   "execution_count": null,
   "metadata": {
    "execution": {
     "iopub.execute_input": "2021-08-02T06:01:14.364751Z",
     "iopub.status.busy": "2021-08-02T06:01:14.364290Z",
     "iopub.status.idle": "2021-08-02T06:01:14.789599Z",
     "shell.execute_reply": "2021-08-02T06:01:14.788765Z",
     "shell.execute_reply.started": "2021-08-02T06:01:14.364713Z"
    },
    "trusted": true
   },
   "outputs": [],
   "source": [
    "cm = confusion_matrix(y_test,y_pred)\n",
    "plot_confusion_matrix(cm, np.unique(y_pred))"
   ]
  },
  {
   "cell_type": "code",
   "execution_count": null,
   "metadata": {
    "execution": {
     "iopub.execute_input": "2021-08-02T06:01:14.791231Z",
     "iopub.status.busy": "2021-08-02T06:01:14.790843Z",
     "iopub.status.idle": "2021-08-02T06:01:19.991804Z",
     "shell.execute_reply": "2021-08-02T06:01:19.990738Z",
     "shell.execute_reply.started": "2021-08-02T06:01:14.791174Z"
    },
    "trusted": true
   },
   "outputs": [],
   "source": [
    "# decision tree\n",
    "params = {'max_depth':np.arange(2,10,2)}\n",
    "\n",
    "dt_model = DecisionTreeClassifier()\n",
    "random_cv = RandomizedSearchCV(dt_model, param_distributions=params, random_state = 42)\n",
    "random_cv.fit(X_train, y_train)"
   ]
  },
  {
   "cell_type": "code",
   "execution_count": null,
   "metadata": {
    "execution": {
     "iopub.execute_input": "2021-08-02T06:01:19.993625Z",
     "iopub.status.busy": "2021-08-02T06:01:19.993262Z",
     "iopub.status.idle": "2021-08-02T06:01:19.999246Z",
     "shell.execute_reply": "2021-08-02T06:01:19.998326Z",
     "shell.execute_reply.started": "2021-08-02T06:01:19.993586Z"
    },
    "trusted": true
   },
   "outputs": [],
   "source": [
    "random_cv.best_params_"
   ]
  },
  {
   "cell_type": "code",
   "execution_count": null,
   "metadata": {
    "execution": {
     "iopub.execute_input": "2021-08-02T06:01:20.000863Z",
     "iopub.status.busy": "2021-08-02T06:01:20.000526Z",
     "iopub.status.idle": "2021-08-02T06:01:20.365610Z",
     "shell.execute_reply": "2021-08-02T06:01:20.364801Z",
     "shell.execute_reply.started": "2021-08-02T06:01:20.000829Z"
    },
    "trusted": true
   },
   "outputs": [],
   "source": [
    "dt_model = DecisionTreeClassifier(max_depth=6)\n",
    "dt_model.fit(X_train, y_train)\n",
    "y_pred = dt_model.predict(X_test)\n",
    "\n",
    "dt_accuracy = accuracy_score(y_test, y_pred)\n",
    "print(\"Accuracy Of Logistic Regression : \", dt_accuracy)"
   ]
  },
  {
   "cell_type": "code",
   "execution_count": null,
   "metadata": {
    "execution": {
     "iopub.execute_input": "2021-08-02T06:01:20.367340Z",
     "iopub.status.busy": "2021-08-02T06:01:20.366856Z",
     "iopub.status.idle": "2021-08-02T06:01:20.781907Z",
     "shell.execute_reply": "2021-08-02T06:01:20.781058Z",
     "shell.execute_reply.started": "2021-08-02T06:01:20.367300Z"
    },
    "trusted": true
   },
   "outputs": [],
   "source": [
    "cm = confusion_matrix(y_test,y_pred)\n",
    "plot_confusion_matrix(cm, np.unique(y_pred))"
   ]
  },
  {
   "cell_type": "code",
   "execution_count": null,
   "metadata": {
    "execution": {
     "iopub.execute_input": "2021-08-02T06:01:20.783587Z",
     "iopub.status.busy": "2021-08-02T06:01:20.783270Z",
     "iopub.status.idle": "2021-08-02T06:02:40.004968Z",
     "shell.execute_reply": "2021-08-02T06:02:40.004193Z",
     "shell.execute_reply.started": "2021-08-02T06:01:20.783551Z"
    },
    "trusted": true
   },
   "outputs": [],
   "source": [
    "# random forest\n",
    "params = {\n",
    "    'n_estimators': np.arange(20,101,10),\n",
    "    'max_depth':np.arange(2,16,2),\n",
    "    'max_features':['auto', 'sqrt'],\n",
    "    'bootstrap':[True, False]\n",
    "}\n",
    "rf_model = RandomForestClassifier()\n",
    "random_cv = RandomizedSearchCV(rf_model, param_distributions=params,random_state = 42, verbose=10)\n",
    "random_cv.fit(X_train, y_train)"
   ]
  },
  {
   "cell_type": "code",
   "execution_count": null,
   "metadata": {
    "execution": {
     "iopub.execute_input": "2021-08-02T06:02:40.006570Z",
     "iopub.status.busy": "2021-08-02T06:02:40.006247Z",
     "iopub.status.idle": "2021-08-02T06:02:40.012743Z",
     "shell.execute_reply": "2021-08-02T06:02:40.011632Z",
     "shell.execute_reply.started": "2021-08-02T06:02:40.006534Z"
    },
    "trusted": true
   },
   "outputs": [],
   "source": [
    "random_cv.best_params_"
   ]
  },
  {
   "cell_type": "code",
   "execution_count": null,
   "metadata": {
    "execution": {
     "iopub.execute_input": "2021-08-02T06:02:40.014553Z",
     "iopub.status.busy": "2021-08-02T06:02:40.014217Z",
     "iopub.status.idle": "2021-08-02T06:02:44.020633Z",
     "shell.execute_reply": "2021-08-02T06:02:44.019592Z",
     "shell.execute_reply.started": "2021-08-02T06:02:40.014518Z"
    },
    "trusted": true
   },
   "outputs": [],
   "source": [
    "rf_model = RandomForestClassifier(n_estimators=90,\n",
    "                                  max_features='auto',\n",
    "                                  max_depth=14,\n",
    "                                  bootstrap=True)\n",
    "rf_model.fit(X_train, y_train)\n",
    "y_pred = rf_model.predict(X_test)\n",
    "\n",
    "rf_accuracy = accuracy_score(y_test, y_pred)\n",
    "print(\"Accuracy Of Logistic Regression : \", rf_accuracy)"
   ]
  },
  {
   "cell_type": "code",
   "execution_count": null,
   "metadata": {
    "execution": {
     "iopub.execute_input": "2021-08-02T06:02:44.022337Z",
     "iopub.status.busy": "2021-08-02T06:02:44.021969Z",
     "iopub.status.idle": "2021-08-02T06:02:44.414831Z",
     "shell.execute_reply": "2021-08-02T06:02:44.414072Z",
     "shell.execute_reply.started": "2021-08-02T06:02:44.022300Z"
    },
    "trusted": true
   },
   "outputs": [],
   "source": [
    "cm = confusion_matrix(y_test,y_pred)\n",
    "plot_confusion_matrix(cm, np.unique(y_pred))"
   ]
  },
  {
   "cell_type": "code",
   "execution_count": null,
   "metadata": {
    "execution": {
     "iopub.execute_input": "2021-08-02T06:02:44.416427Z",
     "iopub.status.busy": "2021-08-02T06:02:44.416071Z",
     "iopub.status.idle": "2021-08-02T06:02:44.420218Z",
     "shell.execute_reply": "2021-08-02T06:02:44.419173Z",
     "shell.execute_reply.started": "2021-08-02T06:02:44.416388Z"
    },
    "trusted": true
   },
   "outputs": [],
   "source": [
    "# # xgboost\n",
    "# params={\n",
    "#     \"max_depth\": [6, 8, 10, 12, 15],\n",
    "#     \"gamma\": [0.2, 0.3, 0.4],\n",
    "# }\n",
    "# xgb_model = xgboost.XGBClassifier()\n",
    "# random_cv = RandomizedSearchCV(xgb_model, param_distributions=params, cv=2, n_iter=5, scoring='roc_auc', n_jobs=-1, verbose=100)\n",
    "# random_cv.fit(X_train, y_train)"
   ]
  },
  {
   "cell_type": "code",
   "execution_count": null,
   "metadata": {
    "execution": {
     "iopub.execute_input": "2021-08-02T06:02:44.422352Z",
     "iopub.status.busy": "2021-08-02T06:02:44.421542Z",
     "iopub.status.idle": "2021-08-02T06:03:14.948314Z",
     "shell.execute_reply": "2021-08-02T06:03:14.947420Z",
     "shell.execute_reply.started": "2021-08-02T06:02:44.422314Z"
    },
    "trusted": true
   },
   "outputs": [],
   "source": [
    "xgb_model = xgboost.XGBClassifier()\n",
    "xgb_model.fit(X_train, y_train)\n",
    "y_pred = xgb_model.predict(X_test)\n",
    "\n",
    "xgb_accuracy = accuracy_score(y_test, y_pred)\n",
    "print(\"Accuracy Of Logistic Regression : \", xgb_accuracy)"
   ]
  },
  {
   "cell_type": "code",
   "execution_count": null,
   "metadata": {
    "execution": {
     "iopub.execute_input": "2021-08-02T06:03:14.949953Z",
     "iopub.status.busy": "2021-08-02T06:03:14.949603Z",
     "iopub.status.idle": "2021-08-02T06:03:15.398265Z",
     "shell.execute_reply": "2021-08-02T06:03:15.397415Z",
     "shell.execute_reply.started": "2021-08-02T06:03:14.949915Z"
    },
    "trusted": true
   },
   "outputs": [],
   "source": [
    "cm = confusion_matrix(y_test,y_pred)\n",
    "plot_confusion_matrix(cm, np.unique(y_pred))"
   ]
  },
  {
   "cell_type": "code",
   "execution_count": null,
   "metadata": {
    "execution": {
     "iopub.execute_input": "2021-08-02T06:03:15.400006Z",
     "iopub.status.busy": "2021-08-02T06:03:15.399632Z",
     "iopub.status.idle": "2021-08-02T06:03:15.405950Z",
     "shell.execute_reply": "2021-08-02T06:03:15.404999Z",
     "shell.execute_reply.started": "2021-08-02T06:03:15.399965Z"
    },
    "trusted": true
   },
   "outputs": [],
   "source": [
    "\n",
    "estimators = [\n",
    "        ('RFC' ,RandomForestClassifier(n_estimators=500, random_state = 42)),\n",
    "        ('KNC', KNeighborsClassifier(5)),\n",
    "        ('DTC', DecisionTreeClassifier()),\n",
    "        ('SVC', SVC(kernel=\"rbf\")),\n",
    "        ('XGB', xgboost.XGBClassifier()),\n",
    "        ('RC',  RidgeClassifier())\n",
    "]\n",
    "\n",
    "clf = StackingClassifier(\n",
    "    estimators=estimators, \n",
    "    final_estimator=GradientBoostingClassifier()\n",
    ")"
   ]
  },
  {
   "cell_type": "code",
   "execution_count": null,
   "metadata": {
    "execution": {
     "iopub.execute_input": "2021-08-02T06:03:15.407901Z",
     "iopub.status.busy": "2021-08-02T06:03:15.407500Z",
     "iopub.status.idle": "2021-08-02T06:03:15.416445Z",
     "shell.execute_reply": "2021-08-02T06:03:15.415342Z",
     "shell.execute_reply.started": "2021-08-02T06:03:15.407862Z"
    },
    "trusted": true
   },
   "outputs": [],
   "source": [
    "def f_score(X_train, X_test, y_train, y_test):\n",
    "    for clf in classifiers:\n",
    "        s = time.time()\n",
    "        clf.fit(X_train,y_train)\n",
    "        y_pred = clf.predict(X_test)\n",
    "        f = f1_score(y_true=y_test,y_pred=y_pred,average=\"macro\")\n",
    "        e = time.time()\n",
    "        print(f\"Score: {round(f,3)} \\t Time(in secs): {round(e-s,3)} \\t Classifier: {clf.__class__.__name__}\")"
   ]
  },
  {
   "cell_type": "code",
   "execution_count": null,
   "metadata": {
    "execution": {
     "iopub.execute_input": "2021-08-02T06:03:15.418179Z",
     "iopub.status.busy": "2021-08-02T06:03:15.417808Z",
     "iopub.status.idle": "2021-08-02T06:08:11.053759Z",
     "shell.execute_reply": "2021-08-02T06:08:11.052802Z",
     "shell.execute_reply.started": "2021-08-02T06:03:15.418143Z"
    },
    "trusted": true
   },
   "outputs": [],
   "source": [
    "clf.fit(X_train,y_train)\n",
    "y_pred = clf.predict(X_test)\n",
    "f1_score(y_true=y_test,y_pred=y_pred,average=\"macro\")"
   ]
  },
  {
   "cell_type": "code",
   "execution_count": null,
   "metadata": {
    "execution": {
     "iopub.execute_input": "2021-08-02T06:08:11.055286Z",
     "iopub.status.busy": "2021-08-02T06:08:11.054926Z",
     "iopub.status.idle": "2021-08-02T06:08:11.480308Z",
     "shell.execute_reply": "2021-08-02T06:08:11.479525Z",
     "shell.execute_reply.started": "2021-08-02T06:08:11.055250Z"
    },
    "trusted": true
   },
   "outputs": [],
   "source": [
    "cm = confusion_matrix(y_test,y_pred)\n",
    "plot_confusion_matrix(cm, np.unique(y_pred))"
   ]
  },
  {
   "cell_type": "code",
   "execution_count": null,
   "metadata": {
    "execution": {
     "iopub.execute_input": "2021-08-02T06:08:11.481924Z",
     "iopub.status.busy": "2021-08-02T06:08:11.481585Z",
     "iopub.status.idle": "2021-08-02T06:08:15.605024Z",
     "shell.execute_reply": "2021-08-02T06:08:15.604213Z",
     "shell.execute_reply.started": "2021-08-02T06:08:11.481887Z"
    },
    "trusted": true
   },
   "outputs": [],
   "source": [
    "model=Sequential()\n",
    "model.add(Dense(units=64,kernel_initializer='uniform',activation='relu',input_dim=X_train.shape[1]))\n",
    "\n",
    "model.add(Dense(units=128,kernel_initializer='uniform',activation='relu'))\n",
    "\n",
    "model.add(Dense(units=64,kernel_initializer='uniform',activation='relu'))\n",
    "\n",
    "model.add(Dense(units=6,kernel_initializer='uniform',activation='softmax'))\n",
    "\n",
    "model.compile(optimizer='adam',loss='sparse_categorical_crossentropy',metrics=['accuracy'])"
   ]
  },
  {
   "cell_type": "code",
   "execution_count": null,
   "metadata": {
    "execution": {
     "iopub.execute_input": "2021-08-02T06:08:15.606656Z",
     "iopub.status.busy": "2021-08-02T06:08:15.606324Z",
     "iopub.status.idle": "2021-08-02T06:08:32.046352Z",
     "shell.execute_reply": "2021-08-02T06:08:32.045532Z",
     "shell.execute_reply.started": "2021-08-02T06:08:15.606621Z"
    },
    "trusted": true
   },
   "outputs": [],
   "source": [
    "history=model.fit(X_train,y_train,batch_size=256,epochs=100,validation_data=(X_test,y_test))"
   ]
  },
  {
   "cell_type": "code",
   "execution_count": null,
   "metadata": {
    "execution": {
     "iopub.execute_input": "2021-08-02T06:08:32.048184Z",
     "iopub.status.busy": "2021-08-02T06:08:32.047785Z",
     "iopub.status.idle": "2021-08-02T06:08:32.448145Z",
     "shell.execute_reply": "2021-08-02T06:08:32.447209Z",
     "shell.execute_reply.started": "2021-08-02T06:08:32.048145Z"
    },
    "trusted": true
   },
   "outputs": [],
   "source": [
    "rcParams['figure.figsize'] = 10, 4\n",
    "plt.plot(history.history['accuracy'])\n",
    "plt.plot(history.history['val_accuracy'])\n",
    "plt.title('model accuracy')\n",
    "plt.ylabel('accuracy')\n",
    "plt.xlabel('epoch')\n",
    "plt.legend(['train', 'test'], loc='upper left')\n",
    "plt.show()\n",
    "# summarize history for loss\n",
    "plt.plot(history.history['loss'])\n",
    "plt.plot(history.history['val_loss'])\n",
    "plt.title('model loss')\n",
    "plt.ylabel('loss')\n",
    "plt.xlabel('epoch')\n",
    "plt.legend(['train', 'test'], loc='upper left')\n",
    "plt.show()\n"
   ]
  },
  {
   "cell_type": "code",
   "execution_count": null,
   "metadata": {
    "execution": {
     "iopub.execute_input": "2021-08-02T06:08:32.449837Z",
     "iopub.status.busy": "2021-08-02T06:08:32.449482Z",
     "iopub.status.idle": "2021-08-02T06:08:32.455758Z",
     "shell.execute_reply": "2021-08-02T06:08:32.454464Z",
     "shell.execute_reply.started": "2021-08-02T06:08:32.449800Z"
    },
    "trusted": true
   },
   "outputs": [],
   "source": [
    "model_name = ['LR', 'SVC', 'DT', 'RF', 'XGB', 'Stacking', 'DeepLearning']\n",
    "model_acc1 = [ 0.9392, 0.9477, 0.80590, 0.90661, 0.9222, 0.93827, 0.959]\n",
    "model_acc = [np.round(i, decimals=2) for i in model_acc1]"
   ]
  },
  {
   "cell_type": "code",
   "execution_count": null,
   "metadata": {
    "execution": {
     "iopub.execute_input": "2021-08-02T06:08:32.457757Z",
     "iopub.status.busy": "2021-08-02T06:08:32.457380Z",
     "iopub.status.idle": "2021-08-02T06:08:32.501027Z",
     "shell.execute_reply": "2021-08-02T06:08:32.500001Z",
     "shell.execute_reply.started": "2021-08-02T06:08:32.457711Z"
    },
    "trusted": true
   },
   "outputs": [],
   "source": [
    "\n",
    "graph = go.Bar(\n",
    "    x=model_name,\n",
    "    y=model_acc,\n",
    "    opacity=1,\n",
    "    showlegend=False,\n",
    "    marker=dict(color=px.colors.qualitative.Pastel1)\n",
    "\n",
    ")\n",
    "\n",
    "layout = go.Layout(\n",
    "    height=450, width=700,\n",
    "    title = 'Model Accuracy Chart',\n",
    "    xaxis = dict(title = 'Model', showgrid=False,tickangle=0),\n",
    "    yaxis = dict(title = 'Accuracy', showgrid=False),\n",
    "    plot_bgcolor='#2d3035', paper_bgcolor='#2d3035',\n",
    "    title_font=dict(size=25, color='#a5a7ab', family='roboto'),\n",
    "    margin=dict(t=80, b=30, l=70, r=40),\n",
    "    font=dict(color='#8a8d93'))\n",
    "fig = go.Figure(data=[graph], layout = layout)\n",
    "fig.update_traces(textfont=dict(color='#fff'), marker=dict(line=dict(color='#ffffff', width=2)))\n",
    "iplot(fig)\n"
   ]
  },
  {
   "cell_type": "code",
   "execution_count": null,
   "metadata": {
    "trusted": true
   },
   "outputs": [],
   "source": []
  },
  {
   "cell_type": "code",
   "execution_count": null,
   "metadata": {},
   "outputs": [],
   "source": []
  }
 ],
 "metadata": {
  "kernelspec": {
   "display_name": "base",
   "language": "python",
   "name": "python3"
  },
  "language_info": {
   "codemirror_mode": {
    "name": "ipython",
    "version": 3
   },
   "file_extension": ".py",
   "mimetype": "text/x-python",
   "name": "python",
   "nbconvert_exporter": "python",
   "pygments_lexer": "ipython3",
   "version": "3.12.7"
  }
 },
 "nbformat": 4,
 "nbformat_minor": 4
}
