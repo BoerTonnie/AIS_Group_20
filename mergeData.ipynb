{
 "cells": [
  {
   "cell_type": "code",
   "execution_count": null,
   "metadata": {},
   "outputs": [],
   "source": [
    "import pandas as pd"
   ]
  },
  {
   "cell_type": "code",
   "execution_count": null,
   "metadata": {},
   "outputs": [],
   "source": [
    "# open csv\n",
    "for file\n",
    "\n"
   ]
  },
  {
   "cell_type": "code",
   "execution_count": null,
   "metadata": {},
   "outputs": [],
   "source": [
    "import os\n",
    "import pandas as pd\n",
    "\n",
    "# Function to process and combine data\n",
    "def process_data(root_folder):\n",
    "    # Create an empty list to hold the dataframes\n",
    "    all_data = []\n",
    "\n",
    "    # Iterate through all folders in the root folder\n",
    "    for folder_name in os.listdir(root_folder):\n",
    "        folder_path = os.path.join(root_folder, folder_name)\n",
    "\n",
    "        # Check if the folder_path is a directory\n",
    "        if os.path.isdir(folder_path):\n",
    "            # Extract person and action from the folder name\n",
    "            parts = folder_name.split(\"-\")\n",
    "            if len(parts) >= 2:\n",
    "                person = parts[0]\n",
    "                action_with_index = parts[1].split(\" \")[0]\n",
    "                action = ''.join([i for i in action_with_index if not i.isdigit()])\n",
    "\n",
    "                # Iterate through all CSV files in the folder\n",
    "                for file_name in os.listdir(folder_path):\n",
    "                    if file_name.endswith(\".csv\"):\n",
    "                        file_path = os.path.join(folder_path, file_name)\n",
    "\n",
    "                        # Read the CSV file\n",
    "                        data = pd.read_csv(file_path)\n",
    "\n",
    "                        # Add person and action columns\n",
    "                        data[\"Person\"] = person\n",
    "                        data[\"Action\"] = action\n",
    "\n",
    "                        # Append the dataframe to the list\n",
    "                        all_data.append(data)\n",
    "\n",
    "    # Combine all dataframes into one\n",
    "    combined_data = pd.concat(all_data, ignore_index=True)\n",
    "\n",
    "    # Save the combined data to a single CSV file\n",
    "    output_path = os.path.join(root_folder, \"combined_data.csv\")\n",
    "    combined_data.to_csv(output_path, index=False)\n",
    "\n",
    "    print(f\"Combined data saved to {output_path}\")\n",
    "\n",
    "# Main entry point\n",
    "if __name__ == \"__main__\":\n",
    "    root_folder = input(\"Enter the path to the root folder: \").strip()\n",
    "    process_data(root_folder)\n",
    "\n",
    "\n"
   ]
  }
 ],
 "metadata": {
  "kernelspec": {
   "display_name": "base",
   "language": "python",
   "name": "python3"
  },
  "language_info": {
   "name": "python",
   "version": "3.12.7"
  }
 },
 "nbformat": 4,
 "nbformat_minor": 2
}
