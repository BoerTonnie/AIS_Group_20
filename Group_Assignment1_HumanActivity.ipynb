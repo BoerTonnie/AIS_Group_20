{
 "cells": [
  {
   "cell_type": "markdown",
   "metadata": {
    "id": "YN-ZzSPFEQRg"
   },
   "source": [
    "# Group Assignment 1: Human Activity Detection\n",
    "In this assignment you will create you own dataset for classification. You will explore which ML algorithms are best to classify this and you will present your best solution. \n",
    "\n",
    "- Create your own dataset for custom human motions using Phyphox\n",
    "- There should be at least 3 distinct types of motions\n",
    "- The motions should be different to the ones used in the UCI dataset (Not: walking, sitting, standing, laying, stairs)\n",
    "- Follow the steps and answer the questions given in this notebook\n",
    "\n",
    "### Generating your dataset:\n",
    "\n",
    "For this assignment you will create your own dataset of motions that you collect with an Accelerometer and Gyroscope. For this you can use your phone as a sensor.\n",
    "To be able to collect your data you can best use an app called [phyphox](https://phyphox.org/), this is a free app available in app stores. This app can be configured to acces your sensordata, sample it as given frequency's. you can set it up te have experiment timeslots, and the data with a timestamp can be exported to a needed output format.\n",
    "\n",
    "![](https://phyphox.org/wp-content/uploads/2019/06/phyphox_dark-1024x274.png)\n",
    "\n",
    "When you installed the app you can setup a custum experiment by clicking on the + button. Define an experiment name, sample frequency and activate the Accelerometer and Gyroscope. Your custom experiment will be added, you can run it pressing the play button and you will see sensor motion. Pressing the tree dots (...) lets you define timed runs, remote access and exporting data.\n",
    "\n",
    "Phyphox will generate 2 files with sensor data, one for the Accelerometer and one for the Giro. Both files will have timestamps which might not match the recorded sensor data for each sensor. Please, preprocess and merge the files for using it as your dataset for training, testing and deploying your own supervised learning model.\n",
    "\n",
    "### steps\n",
    "\n",
    "With your own generated dataset the similar sequence of steps should be taken to train your model.\n",
    "\n",
    "These are the generic steps to be taken\n",
    "1. Frame the problem and look at the big picture.\n",
    "2. Get the data.\n",
    "3. Explore the data to gain insights.\n",
    "4. Prepare the data to better expose the underlying data patterns to Machine Learning algorithms\n",
    "5. Explore many different models and short-list the best ones.\n",
    "6. Fine-tune your models and combine them into a great solution.\n",
    "7. Present your solution.\n",
    "8. Launch, monitor, and maintain your system.\n",
    "9. Additional Questions\n",
    "\n",
    "\n",
    "---\n",
    "In the Notebook this structure is used for dividing the different steps, so make sure you do the implementation and analisis at these location in the notebook. \n",
    "\n",
    "You may add additinal code blocks, but keep the seperation of the given structure.\n",
    "\n",
    "At the end of each block summarize / comment / conclude your current step in the given textblocks.\n",
    "\n",
    "\n"
   ]
  },
  {
   "cell_type": "markdown",
   "metadata": {
    "id": "HVvVxhvpne6O"
   },
   "source": [
    "```\n",
    "Project group 20:\n",
    "Lars Claassen   - 4159632\n",
    "Tonnie Bour     - 4130456\n",
    "Pjotr Maes      - 3839001\n",
    "```\n"
   ]
  },
  {
   "cell_type": "markdown",
   "metadata": {
    "id": "dVhu3sWzEQRv"
   },
   "source": [
    "# 1. Frame the problem and look at the big picture\n",
    "Describe the problem at hand and explain your approach"
   ]
  },
  {
   "cell_type": "markdown",
   "metadata": {
    "id": "TDdDUEHGgRe_"
   },
   "source": [
    "```\n",
    "A model is designed to classify human activities. To achieve this, data is gathered to train multiple models for classification.\n",
    "\n",
    "We use our phones and their built-in sensors to track the following activities:\n",
    "    - Casual walking\n",
    "    - Walking while looking at the phone\n",
    "    - Drinking\n",
    "For each activity, gyroscope, acceleration, and linear acceleration data are recorded and logged. Each activity is measured separately in 10-second intervals. The recorded data is then compressed into various features, including minimum, maximum, mean, and standard deviation values, resulting in 38 features per measurement.\n",
    "\n",
    "The compressed values from each measurement are compiled into a single dataset, which is then split into training and testing sets. Different model types are trained and evaluated to determine the most suitable one, providing insight into which model performs best with our data.\n",
    "\n",
    "```\n"
   ]
  },
  {
   "cell_type": "markdown",
   "metadata": {
    "id": "RkPzAWZ6d2PY"
   },
   "source": [
    "# 2. Get the data.\n",
    "\n",
    "Initialize the system, get all needed libraries, retreive the data and import it\n",
    "\n",
    "> Create your own dataset\n",
    "\n",
    "> Explain and show (with a few images) which motions you are classifing, how you generated them, what the problems where you encountered in this process! \n"
   ]
  },
  {
   "cell_type": "markdown",
   "metadata": {},
   "source": [
    "```\n",
    "To gather the data we used an app called Phyphox. Within this app we created our own exercise that tracks the gyroscope, acceleration, and linear acceleration. This data is logged and saved per activity. Each activity/measurement records for about 10 seconds, this is for each exercise the same to prevend a bias from forming towards the \"longer during\" activity.\n",
    "\n",
    "For casual walking we held the phone in the palm of our hand while swinging it as you would naturally do while walking. \n",
    "```"
   ]
  },
  {
   "cell_type": "markdown",
   "metadata": {},
   "source": [
    "<img src=\"Images/W1.jpg\" alt=\"Person holding phone\" width=\"300\">\n",
    "<img src=\"Images/W2.jpg\" alt=\"Person holding phone\" width=\"300\">\n",
    "<img src=\"Images/W3.jpg\" alt=\"Person holding phone\" width=\"300\">"
   ]
  },
  {
   "cell_type": "markdown",
   "metadata": {},
   "source": [
    "```\n",
    "To measure walking while looking at the phone a subject would walk with the phone as if he/she would be texting or looking at their phone. \n",
    "```"
   ]
  },
  {
   "cell_type": "markdown",
   "metadata": {},
   "source": [
    "<img src=\"Images/WW1.jpg\" alt=\"Person holding phone\" width=\"300\">\n",
    "<img src=\"Images/WW2.jpg\" alt=\"Person holding phone\" width=\"300\">\n",
    "<img src=\"Images/WW3.jpg\" alt=\"Person holding phone\" width=\"300\">"
   ]
  },
  {
   "cell_type": "markdown",
   "metadata": {},
   "source": [
    "```\n",
    "To measure drinking a subject would hold the phone in the hand together with their beverage (of their choice) and take multiple sips. \n",
    "```"
   ]
  },
  {
   "cell_type": "markdown",
   "metadata": {},
   "source": [
    "<img src=\"Images/D1.jpg\" alt=\"Person holding phone\" width=\"300\">\n",
    "<img src=\"Images/D2.jpg\" alt=\"Person holding phone\" width=\"300\">\n",
    "<img src=\"Images/D3.jpg\" alt=\"Person holding phone\" width=\"300\">"
   ]
  },
  {
   "cell_type": "markdown",
   "metadata": {},
   "source": [
    "```\n",
    "To achieve the best model performance, a large amount of data is required. However, creating a prototype model using a smaller dataset is still feasible.\n",
    "\n",
    "In our case, three subjects perform each activity 10 times, resulting in 30 datasets per activity across three subjects. This brings the total dataset size to 90 measurements.\n",
    "\n",
    "```"
   ]
  },
  {
   "cell_type": "markdown",
   "metadata": {},
   "source": [
    "````\n",
    "Two significant problems were encountered during data collection:\n",
    "1) Finding motions that are distinct from each other and keep them consisten over multiple people deemed difficult.\n",
    "2) Aligning different naming conventions, as various phone brands produced results with differing labels.\n",
    "\n"
   ]
  },
  {
   "cell_type": "markdown",
   "metadata": {
    "id": "0v8cn-1reCYH"
   },
   "source": [
    "# 3. Explore the data to gain insights.\n",
    "\n",
    "Explore the data in any possible way, visualize the results (if you have multiple plots of the same kind of data put them in one larger plot)"
   ]
  },
  {
   "cell_type": "markdown",
   "metadata": {},
   "source": [
    "```\n",
    "Each measurement is put seperately in a folder that specifies who has done the measurement, the action and the occurence of the action. The three csv files have raw data of the sensors, along with a timestamp.\n",
    "\n",
    "In \"1-drinking1 2024-12-12 14-47-32\" the first 1 states the person who has done the measurement. Afterwards the action is stated along with the measurement index. Everything after that is stating the time, but this information is ignored, since this has no significant importance to the model or testing.\n",
    "\n",
    "A plotted version of the data is visible below.\n",
    "\n",
    "```"
   ]
  },
  {
   "attachments": {
    "image.png": {
     "image/png": "[encoded data removed]"
    }
   },
   "cell_type": "markdown",
   "metadata": {},
   "source": [
    "![image.png](attachment:image.png)"
   ]
  },
  {
   "attachments": {
    "image.png": {
     "image/png": "[encoded data removed]"
    }
   },
   "cell_type": "markdown",
   "metadata": {},
   "source": [
    "![image.png](attachment:image.png)"
   ]
  },
  {
   "cell_type": "code",
   "execution_count": 2,
   "metadata": {},
   "outputs": [
    {
     "data": {
      "text/plain": [
       "(   Time (s)  Acceleration x (m/s^2)  Acceleration y (m/s^2)  \\\n",
       " 0  0.011976                1.367089                3.924097   \n",
       " 1  0.021976                1.450886                3.849876   \n",
       " 2  0.031976                1.608904                3.957615   \n",
       " 3  0.041976                1.800440                4.072537   \n",
       " 4  0.051976                2.013524                4.082114   \n",
       " \n",
       "    Acceleration z (m/s^2)  \n",
       " 0                9.411906  \n",
       " 1                9.682451  \n",
       " 2               10.015245  \n",
       " 3               10.273819  \n",
       " 4               10.374375  ,\n",
       "    Time (s)  Gyroscope x (rad/s)  Gyroscope y (rad/s)  Gyroscope z (rad/s)\n",
       " 0  0.011976            -0.638201            -0.616058            -0.067042\n",
       " 1  0.027086            -0.638201            -0.616058            -0.067042\n",
       " 2  0.037086            -0.638201            -0.616058            -0.067042\n",
       " 3  0.047086            -0.638201            -0.616058            -0.067042\n",
       " 4  0.057086            -1.264338             0.798095             0.465021,\n",
       "    Time (s)  Linear Acceleration x (m/s^2)  Linear Acceleration y (m/s^2)  \\\n",
       " 0  0.031976                       2.752516                      -3.827250   \n",
       " 1  0.041976                       2.913037                      -3.674050   \n",
       " 2  0.051976                       3.094726                      -3.625845   \n",
       " 3  0.061976                       3.233901                      -3.619560   \n",
       " 4  0.071976                       3.126086                      -3.596569   \n",
       " \n",
       "    Linear Acceleration z (m/s^2)  \n",
       " 0                       4.162199  \n",
       " 1                       4.364266  \n",
       " 2                       4.408753  \n",
       " 3                       4.234228  \n",
       " 4                       3.971609  )"
      ]
     },
     "execution_count": 2,
     "metadata": {},
     "output_type": "execute_result"
    }
   ],
   "source": [
    "import pandas as pd\n",
    "\n",
    "# File paths\n",
    "accelerometer_path = 'datasets/testSet/1-drinking1 2024-12-12 14-47-32/Accelerometer.csv'\n",
    "gyroscope_path = 'datasets/testSet/1-drinking1 2024-12-12 14-47-32/Gyroscope.csv'\n",
    "linear_acceleration_path = 'datasets/testSet/1-drinking1 2024-12-12 14-47-32/Linear Acceleration.csv'\n",
    "\n",
    "# Load data from CSV files\n",
    "accelerometer_df = pd.read_csv(accelerometer_path)\n",
    "gyroscope_df = pd.read_csv(gyroscope_path)\n",
    "linear_acceleration_df = pd.read_csv(linear_acceleration_path)\n",
    "\n",
    "# Display the first few rows of each DataFrame to inspect their structure\n",
    "accelerometer_df.head(), gyroscope_df.head(), linear_acceleration_df.head()\n"
   ]
  },
  {
   "cell_type": "code",
   "execution_count": 3,
   "metadata": {},
   "outputs": [
    {
     "data": {
      "image/png": "[encoded data removed]",
      "text/plain": [
       "<Figure size 1200x800 with 3 Axes>"
      ]
     },
     "metadata": {},
     "output_type": "display_data"
    }
   ],
   "source": [
    "import matplotlib.pyplot as plt\n",
    "\n",
    "# Plot Accelerometer Data\n",
    "plt.figure(figsize=(12, 8))\n",
    "plt.subplot(3, 1, 1)\n",
    "plt.plot(accelerometer_df['Time (s)'], accelerometer_df['Acceleration x (m/s^2)'], label='X-axis')\n",
    "plt.plot(accelerometer_df['Time (s)'], accelerometer_df['Acceleration y (m/s^2)'], label='Y-axis')\n",
    "plt.plot(accelerometer_df['Time (s)'], accelerometer_df['Acceleration z (m/s^2)'], label='Z-axis')\n",
    "plt.title('Accelerometer Data')\n",
    "plt.xlabel('Time (s)')\n",
    "plt.ylabel('Acceleration (m/s²)')\n",
    "plt.legend()\n",
    "\n",
    "# Plot Gyroscope Data\n",
    "plt.subplot(3, 1, 2)\n",
    "plt.plot(gyroscope_df['Time (s)'], gyroscope_df['Gyroscope x (rad/s)'], label='X-axis')\n",
    "plt.plot(gyroscope_df['Time (s)'], gyroscope_df['Gyroscope y (rad/s)'], label='Y-axis')\n",
    "plt.plot(gyroscope_df['Time (s)'], gyroscope_df['Gyroscope z (rad/s)'], label='Z-axis')\n",
    "plt.title('Gyroscope Data')\n",
    "plt.xlabel('Time (s)')\n",
    "plt.ylabel('Angular Velocity (rad/s)')\n",
    "plt.legend()\n",
    "\n",
    "# Plot Linear Acceleration Data\n",
    "plt.subplot(3, 1, 3)\n",
    "plt.plot(linear_acceleration_df['Time (s)'], linear_acceleration_df['Linear Acceleration x (m/s^2)'], label='X-axis')\n",
    "plt.plot(linear_acceleration_df['Time (s)'], linear_acceleration_df['Linear Acceleration y (m/s^2)'], label='Y-axis')\n",
    "plt.plot(linear_acceleration_df['Time (s)'], linear_acceleration_df['Linear Acceleration z (m/s^2)'], label='Z-axis')\n",
    "plt.title('Linear Acceleration Data')\n",
    "plt.xlabel('Time (s)')\n",
    "plt.ylabel('Linear Acceleration (m/s²)')\n",
    "plt.legend()\n",
    "\n",
    "plt.tight_layout()\n",
    "plt.show()\n"
   ]
  },
  {
   "cell_type": "markdown",
   "metadata": {},
   "source": [
    "```\n",
    "Of course, this data does not have any context and is not ready to be used as input for a learning model. Given that the information comes from multiple instances of the same action in a measurement, transforming this data into a mean, standard deviation, minimum value, and maximum value will generalize each action. This will improve the comprehensiveness of the data.\n",
    "```"
   ]
  },
  {
   "cell_type": "markdown",
   "metadata": {},
   "source": [
    "# 4. Prepare the data to better expose the underlying data patterns to Machine Learning algorithms\n",
    "\n",
    "prepare your data, is it normalized? are there outlier? Make a training and a test set."
   ]
  },
  {
   "cell_type": "markdown",
   "metadata": {},
   "source": [
    "```\n",
    "At first all of the data must be collected into one file. This makes reading the data for the model a novel task. While this task is done the before mentioned mean, std, min and max are also calculated for each seperete stream of data. This results in a data size of (90, 38).\n",
    "```"
   ]
  },
  {
   "cell_type": "code",
   "execution_count": 17,
   "metadata": {
    "id": "zP8ihRoAd_oY"
   },
   "outputs": [
    {
     "name": "stdout",
     "output_type": "stream",
     "text": [
      "Summary data saved to datasets/testSet\\data_total.csv\n",
      "(90, 38)\n"
     ]
    }
   ],
   "source": [
    "# YOUR CODE HERE \n",
    "import os\n",
    "import pandas as pd\n",
    "\n",
    "# Define the path to the root folder containing the action folders\n",
    "root_folder = \"datasets/testSet\"\n",
    "\n",
    "# Create an empty list to hold the summarized data\n",
    "summary_data = []\n",
    "\n",
    "# Iterate through all folders in the root folder\n",
    "for folder_name in os.listdir(root_folder):\n",
    "    folder_path = os.path.join(root_folder, folder_name)\n",
    "\n",
    "    # Check if the folder_path is a directory\n",
    "    if os.path.isdir(folder_path):\n",
    "        # Extract person and action from the folder name\n",
    "        parts = folder_name.split(\"-\")\n",
    "        if len(parts) >= 2:\n",
    "            person = parts[0]\n",
    "            action_with_index = parts[1].rsplit(\" \", 1)[0]\n",
    "            action = ''.join([i for i in action_with_index if not i.isdigit()])\n",
    "\n",
    "            summary_row = {\n",
    "                'subject': person,\n",
    "                'Activity': action,\n",
    "                \n",
    "            }\n",
    "\n",
    "            # Iterate through all CSV files in the folder\n",
    "            for file_name in os.listdir(folder_path):\n",
    "                if file_name.endswith(\".csv\"):\n",
    "                    file_path = os.path.join(folder_path, file_name)\n",
    "                    try:\n",
    "                        # Read the CSV file\n",
    "                        data = pd.read_csv(file_path)\n",
    "\n",
    "                        # Skip empty files\n",
    "                        if data.empty:\n",
    "                            print(f\"Skipping empty file: {file_path}\")\n",
    "                            continue\n",
    "                        \n",
    "                        # Transfer names to insure device campatibility (Apple using different naming convension)\n",
    "                        if {\"X (m/s^2)\", \"Y (m/s^2)\", \"Z (m/s^2)\"}.issubset(data.columns) and file_name == \"Accelerometer.csv\":\n",
    "                            data.rename(columns={\n",
    "                                \"X (m/s^2)\": \"Acceleration x (m/s^2)\",\n",
    "                                \"Y (m/s^2)\": \"Acceleration y (m/s^2)\",\n",
    "                                \"Z (m/s^2)\": \"Acceleration z (m/s^2)\"\n",
    "                            }, inplace=True)\n",
    "                        elif {\"X (rad/s)\", \"Y (rad/s)\", \"Z (rad/s)\"}.issubset(data.columns):\n",
    "                            data.rename(columns={\n",
    "                                \"X (rad/s)\": 'Gyroscope x (rad/s)',\n",
    "                                \"Y (rad/s)\": 'Gyroscope y (rad/s)',\n",
    "                                \"Z (rad/s)\": 'Gyroscope z (rad/s)'\n",
    "                            }, inplace=True)\n",
    "                        elif {\"X (m/s^2)\",\"Y (m/s^2)\",\"Z (m/s^2)\"}.issubset(data.columns):\n",
    "                            data.rename(columns={\n",
    "                                \"X (m/s^2)\": 'Linear Acceleration x (m/s^2)',\n",
    "                                \"Y (m/s^2)\": 'Linear Acceleration y (m/s^2)',\n",
    "                                \"Z (m/s^2)\": 'Linear Acceleration z (m/s^2)'\n",
    "                            }, inplace=True)\n",
    "\n",
    "\n",
    "\n",
    "                        # Determine which type of data (Accelerometer, Gyroscope, or Linear Acceleration)\n",
    "                        if {'Acceleration x (m/s^2)', 'Acceleration y (m/s^2)', 'Acceleration z (m/s^2)'}.issubset(data.columns):\n",
    "                            data_type = \"Accelerometer\"\n",
    "                            columns = ['Acceleration x (m/s^2)', 'Acceleration y (m/s^2)', 'Acceleration z (m/s^2)']\n",
    "\n",
    "                        elif {'Gyroscope x (rad/s)', 'Gyroscope y (rad/s)', 'Gyroscope z (rad/s)'}.issubset(data.columns):\n",
    "                            data_type = \"Gyroscope\"\n",
    "                            columns = ['Gyroscope x (rad/s)', 'Gyroscope y (rad/s)', 'Gyroscope z (rad/s)']\n",
    "\n",
    "                        elif {'Linear Acceleration x (m/s^2)', 'Linear Acceleration y (m/s^2)', 'Linear Acceleration z (m/s^2)'}.issubset(data.columns):\n",
    "                            data_type = \"Linear Acceleration\"\n",
    "                            columns = ['Linear Acceleration x (m/s^2)', 'Linear Acceleration y (m/s^2)', 'Linear Acceleration z (m/s^2)']\n",
    "\n",
    "                        else:\n",
    "                            print(f\"File {file_path} does not contain recognized column names. Skipping.\")\n",
    "                            continue\n",
    "\n",
    "                        # Calculate statistics for relevant columns\n",
    "                        mean_values = data[columns].mean()\n",
    "                        std_values = data[columns].std()\n",
    "                        min_values = data[columns].min()\n",
    "                        max_values = data[columns].max()\n",
    "\n",
    "                        # add to the summary row\n",
    "                        for col in columns:\n",
    "                            summary_row[f'{col}_mean'] = mean_values[col]\n",
    "                            summary_row[f'{col}_std'] = std_values[col]\n",
    "                            summary_row[f'{col}_min'] = min_values[col]\n",
    "                            summary_row[f'{col}_max'] = max_values[col]\n",
    "                        \n",
    "                    except Exception as e:\n",
    "                        print(f\"Error reading file {file_path}: {e}\")\n",
    "            summary_data.append(summary_row)\n",
    "# Create a dataframe from the summary data\n",
    "if not summary_data:\n",
    "    print(\"No valid data found. Summary CSV will not be created.\")\n",
    "else:\n",
    "    summary_df = pd.DataFrame(summary_data)\n",
    "\n",
    "    # Save the summarized data to a single CSV file\n",
    "    output_path = os.path.join(root_folder, \"data_total.csv\")\n",
    "    summary_df.to_csv(output_path, index=False)\n",
    "\n",
    "    print(f\"Summary data saved to {output_path}\")\n",
    "\n",
    "print(summary_df.shape)\n",
    "    "
   ]
  },
  {
   "cell_type": "markdown",
   "metadata": {},
   "source": [
    "```\n",
    "Due to the small sample size the test/train split is set on 80% training data.\n",
    "```"
   ]
  },
  {
   "cell_type": "code",
   "execution_count": 13,
   "metadata": {},
   "outputs": [
    {
     "name": "stdout",
     "output_type": "stream",
     "text": [
      "Train set size: (72, 38)\n",
      "Test set size: (18, 38)\n"
     ]
    }
   ],
   "source": [
    "import pandas as pd\n",
    "from sklearn.model_selection import train_test_split\n",
    "\n",
    "# Load the dataset\n",
    "file_path = 'datasets/testSet/data_total.csv'\n",
    "data = pd.read_csv(file_path)\n",
    "\n",
    "# Set your split ratio (e.g., 0.8 for 80% training, 20% testing)\n",
    "split_ratio = 0.8  # Change this value as desired (0 < split_ratio < 1)\n",
    "\n",
    "# Split the dataset into train and test sets\n",
    "train_set, test_set = train_test_split(data, test_size=(1 - split_ratio), random_state=42)\n",
    "\n",
    "# Save the splits to new CSV files (optional)\n",
    "train_set.to_csv('datasets/train_set.csv', index=False)\n",
    "test_set.to_csv('datasets/test_set.csv', index=False)\n",
    "\n",
    "# Print the sizes of the splits\n",
    "print(f\"Train set size: {train_set.shape}\")\n",
    "print(f\"Test set size: {test_set.shape}\")\n"
   ]
  },
  {
   "cell_type": "markdown",
   "metadata": {},
   "source": [
    "```\n",
    "Now the data is ready to be checked for outliers, missing data, and other anomalies.\n",
    "```"
   ]
  },
  {
   "cell_type": "code",
   "execution_count": 19,
   "metadata": {},
   "outputs": [],
   "source": [
    "# import libraries\n",
    "import os\n",
    "import time\n",
    "\n",
    "import pandas as pd\n",
    "import numpy as np\n",
    "import matplotlib.pyplot as plt\n",
    "import seaborn as sns\n",
    "from plotly.offline import init_notebook_mode, iplot\n",
    "import plotly.graph_objs as go\n",
    "from matplotlib.colors import rgb2hex\n",
    "from matplotlib.cm import get_cmap\n",
    "import plotly.express as px\n",
    "from plotly.subplots import make_subplots\n",
    "import plotly.figure_factory as ff\n",
    "from mpl_toolkits import mplot3d\n",
    "from pylab import rcParams\n",
    "\n",
    "from sklearn.manifold import TSNE\n",
    "from sklearn.decomposition import PCA\n",
    "from sklearn.preprocessing import LabelEncoder\n",
    "from sklearn.linear_model import LogisticRegression,RidgeClassifier\n",
    "from sklearn.metrics import confusion_matrix, classification_report, accuracy_score, f1_score\n",
    "from sklearn.model_selection import RandomizedSearchCV\n",
    "from sklearn.svm import SVC\n",
    "from sklearn.tree import DecisionTreeClassifier\n",
    "from sklearn.ensemble import RandomForestClassifier, StackingClassifier, GradientBoostingClassifier\n",
    "import xgboost\n",
    "from sklearn.neighbors import KNeighborsClassifier\n",
    "from sklearn.naive_bayes import GaussianNB\n",
    "\n",
    "from tensorflow.keras.models import Sequential\n",
    "from tensorflow.keras.layers import Dense, Dropout, BatchNormalization\n",
    "from tensorflow.keras.utils import to_categorical\n",
    "from tensorflow.keras.optimizers import RMSprop, Adam\n",
    "\n",
    "\n",
    "import warnings\n",
    "warnings.filterwarnings('ignore')\n",
    "\n",
    "sns.set(rc={'figure.facecolor':'#ffffff'})"
   ]
  },
  {
   "cell_type": "code",
   "execution_count": null,
   "metadata": {},
   "outputs": [],
   "source": [
    "# load data\n",
    "df_train = pd.read_csv('datasets/train_set.csv')\n",
    "df_test = pd.read_csv('datasets/test_set.csv')"
   ]
  },
  {
   "cell_type": "code",
   "execution_count": null,
   "metadata": {},
   "outputs": [
    {
     "name": "stdout",
     "output_type": "stream",
     "text": [
      "Train Dataset Shape: (72, 38)\n",
      "Test Dataset Shape: (18, 38)\n"
     ]
    }
   ],
   "source": [
    "# shape data\n",
    "print(f\"Train Dataset Shape: {df_train.shape}\")\n",
    "print(f\"Test Dataset Shape: {df_test.shape}\")"
   ]
  },
  {
   "cell_type": "code",
   "execution_count": null,
   "metadata": {},
   "outputs": [
    {
     "name": "stdout",
     "output_type": "stream",
     "text": [
      "Train Dataset Missing Data Counts: 0\n",
      "Test Dataset Missing Data Counts: 0\n"
     ]
    }
   ],
   "source": [
    "# missing data counts\n",
    "print(f\"Train Dataset Missing Data Counts: {df_train.isna().sum().sum()}\")\n",
    "print(f\"Test Dataset Missing Data Counts: {df_test.isna().sum().sum()}\")"
   ]
  },
  {
   "cell_type": "code",
   "execution_count": null,
   "metadata": {},
   "outputs": [
    {
     "name": "stdout",
     "output_type": "stream",
     "text": [
      "Train Dataset Duplicate Data Counts: 0\n",
      "Test Dataset Duplicate Data Counts: 0\n"
     ]
    }
   ],
   "source": [
    "# duplicates data counts\n",
    "print(f\"Train Dataset Duplicate Data Counts: {df_train.duplicated().sum()}\")\n",
    "print(f\"Test Dataset Duplicate Data Counts: {df_test.duplicated().sum()}\")"
   ]
  },
  {
   "cell_type": "markdown",
   "metadata": {},
   "source": [
    "```\n",
    "As can be seen above, no duplicates or missing data is found inside of both the train and test sets.\n",
    "```"
   ]
  },
  {
   "cell_type": "markdown",
   "metadata": {},
   "source": [
    "```\n",
    "Now below the spread of the actions between the test and train set is plotted. This makes it possible to check if the training or testing will have blindspots for present data.\n",
    "```"
   ]
  },
  {
   "cell_type": "code",
   "execution_count": null,
   "metadata": {},
   "outputs": [
    {
     "name": "stderr",
     "output_type": "stream",
     "text": [
      "findfont: Font family 'roboto' not found.\n",
      "findfont: Font family 'roboto' not found.\n",
      "findfont: Font family 'roboto' not found.\n",
      "findfont: Font family 'roboto' not found.\n",
      "findfont: Font family 'roboto' not found.\n"
     ]
    },
    {
     "data": {
      "image/png": "[encoded data removed]",
      "text/plain": [
       "<Figure size 2500x500 with 1 Axes>"
      ]
     },
     "metadata": {},
     "output_type": "display_data"
    },
    {
     "data": {
      "application/vnd.plotly.v1+json": {
       "config": {
        "linkText": "Export to plot.ly",
        "plotlyServerURL": "https://plot.ly",
        "showLink": false
       },
       "data": [
        {
         "marker": {
          "color": [
           "#636EFA",
           "#EF553B",
           "#00CC96",
           "#AB63FA",
           "#FFA15A",
           "#19D3F3",
           "#FF6692",
           "#B6E880",
           "#FF97FF",
           "#FECB52"
          ],
          "line": {
           "color": "#ffffff",
           "width": 2
          }
         },
         "textfont": {
          "color": "#fff"
         },
         "type": "bar",
         "x": [
          "drinking",
          "walking",
          "walkingwith"
         ],
         "y": [
          25,
          24,
          23
         ]
        }
       ],
       "layout": {
        "font": {
         "color": "#8a8d93"
        },
        "height": 450,
        "margin": {
         "b": 30,
         "l": 70,
         "r": 40,
         "t": 80
        },
        "paper_bgcolor": "#2d3035",
        "plot_bgcolor": "#2d3035",
        "template": {
         "data": {
          "bar": [
           {
            "error_x": {
             "color": "#2a3f5f"
            },
            "error_y": {
             "color": "#2a3f5f"
            },
            "marker": {
             "line": {
              "color": "#E5ECF6",
              "width": 0.5
             },
             "pattern": {
              "fillmode": "overlay",
              "size": 10,
              "solidity": 0.2
             }
            },
            "type": "bar"
           }
          ],
          "barpolar": [
           {
            "marker": {
             "line": {
              "color": "#E5ECF6",
              "width": 0.5
             },
             "pattern": {
              "fillmode": "overlay",
              "size": 10,
              "solidity": 0.2
             }
            },
            "type": "barpolar"
           }
          ],
          "carpet": [
           {
            "aaxis": {
             "endlinecolor": "#2a3f5f",
             "gridcolor": "white",
             "linecolor": "white",
             "minorgridcolor": "white",
             "startlinecolor": "#2a3f5f"
            },
            "baxis": {
             "endlinecolor": "#2a3f5f",
             "gridcolor": "white",
             "linecolor": "white",
             "minorgridcolor": "white",
             "startlinecolor": "#2a3f5f"
            },
            "type": "carpet"
           }
          ],
          "choropleth": [
           {
            "colorbar": {
             "outlinewidth": 0,
             "ticks": ""
            },
            "type": "choropleth"
           }
          ],
          "contour": [
           {
            "colorbar": {
             "outlinewidth": 0,
             "ticks": ""
            },
            "colorscale": [
             [
              0,
              "#0d0887"
             ],
             [
              0.1111111111111111,
              "#46039f"
             ],
             [
              0.2222222222222222,
              "#7201a8"
             ],
             [
              0.3333333333333333,
              "#9c179e"
             ],
             [
              0.4444444444444444,
              "#bd3786"
             ],
             [
              0.5555555555555556,
              "#d8576b"
             ],
             [
              0.6666666666666666,
              "#ed7953"
             ],
             [
              0.7777777777777778,
              "#fb9f3a"
             ],
             [
              0.8888888888888888,
              "#fdca26"
             ],
             [
              1,
              "#f0f921"
             ]
            ],
            "type": "contour"
           }
          ],
          "contourcarpet": [
           {
            "colorbar": {
             "outlinewidth": 0,
             "ticks": ""
            },
            "type": "contourcarpet"
           }
          ],
          "heatmap": [
           {
            "colorbar": {
             "outlinewidth": 0,
             "ticks": ""
            },
            "colorscale": [
             [
              0,
              "#0d0887"
             ],
             [
              0.1111111111111111,
              "#46039f"
             ],
             [
              0.2222222222222222,
              "#7201a8"
             ],
             [
              0.3333333333333333,
              "#9c179e"
             ],
             [
              0.4444444444444444,
              "#bd3786"
             ],
             [
              0.5555555555555556,
              "#d8576b"
             ],
             [
              0.6666666666666666,
              "#ed7953"
             ],
             [
              0.7777777777777778,
              "#fb9f3a"
             ],
             [
              0.8888888888888888,
              "#fdca26"
             ],
             [
              1,
              "#f0f921"
             ]
            ],
            "type": "heatmap"
           }
          ],
          "heatmapgl": [
           {
            "colorbar": {
             "outlinewidth": 0,
             "ticks": ""
            },
            "colorscale": [
             [
              0,
              "#0d0887"
             ],
             [
              0.1111111111111111,
              "#46039f"
             ],
             [
              0.2222222222222222,
              "#7201a8"
             ],
             [
              0.3333333333333333,
              "#9c179e"
             ],
             [
              0.4444444444444444,
              "#bd3786"
             ],
             [
              0.5555555555555556,
              "#d8576b"
             ],
             [
              0.6666666666666666,
              "#ed7953"
             ],
             [
              0.7777777777777778,
              "#fb9f3a"
             ],
             [
              0.8888888888888888,
              "#fdca26"
             ],
             [
              1,
              "#f0f921"
             ]
            ],
            "type": "heatmapgl"
           }
          ],
          "histogram": [
           {
            "marker": {
             "pattern": {
              "fillmode": "overlay",
              "size": 10,
              "solidity": 0.2
             }
            },
            "type": "histogram"
           }
          ],
          "histogram2d": [
           {
            "colorbar": {
             "outlinewidth": 0,
             "ticks": ""
            },
            "colorscale": [
             [
              0,
              "#0d0887"
             ],
             [
              0.1111111111111111,
              "#46039f"
             ],
             [
              0.2222222222222222,
              "#7201a8"
             ],
             [
              0.3333333333333333,
              "#9c179e"
             ],
             [
              0.4444444444444444,
              "#bd3786"
             ],
             [
              0.5555555555555556,
              "#d8576b"
             ],
             [
              0.6666666666666666,
              "#ed7953"
             ],
             [
              0.7777777777777778,
              "#fb9f3a"
             ],
             [
              0.8888888888888888,
              "#fdca26"
             ],
             [
              1,
              "#f0f921"
             ]
            ],
            "type": "histogram2d"
           }
          ],
          "histogram2dcontour": [
           {
            "colorbar": {
             "outlinewidth": 0,
             "ticks": ""
            },
            "colorscale": [
             [
              0,
              "#0d0887"
             ],
             [
              0.1111111111111111,
              "#46039f"
             ],
             [
              0.2222222222222222,
              "#7201a8"
             ],
             [
              0.3333333333333333,
              "#9c179e"
             ],
             [
              0.4444444444444444,
              "#bd3786"
             ],
             [
              0.5555555555555556,
              "#d8576b"
             ],
             [
              0.6666666666666666,
              "#ed7953"
             ],
             [
              0.7777777777777778,
              "#fb9f3a"
             ],
             [
              0.8888888888888888,
              "#fdca26"
             ],
             [
              1,
              "#f0f921"
             ]
            ],
            "type": "histogram2dcontour"
           }
          ],
          "mesh3d": [
           {
            "colorbar": {
             "outlinewidth": 0,
             "ticks": ""
            },
            "type": "mesh3d"
           }
          ],
          "parcoords": [
           {
            "line": {
             "colorbar": {
              "outlinewidth": 0,
              "ticks": ""
             }
            },
            "type": "parcoords"
           }
          ],
          "pie": [
           {
            "automargin": true,
            "type": "pie"
           }
          ],
          "scatter": [
           {
            "fillpattern": {
             "fillmode": "overlay",
             "size": 10,
             "solidity": 0.2
            },
            "type": "scatter"
           }
          ],
          "scatter3d": [
           {
            "line": {
             "colorbar": {
              "outlinewidth": 0,
              "ticks": ""
             }
            },
            "marker": {
             "colorbar": {
              "outlinewidth": 0,
              "ticks": ""
             }
            },
            "type": "scatter3d"
           }
          ],
          "scattercarpet": [
           {
            "marker": {
             "colorbar": {
              "outlinewidth": 0,
              "ticks": ""
             }
            },
            "type": "scattercarpet"
           }
          ],
          "scattergeo": [
           {
            "marker": {
             "colorbar": {
              "outlinewidth": 0,
              "ticks": ""
             }
            },
            "type": "scattergeo"
           }
          ],
          "scattergl": [
           {
            "marker": {
             "colorbar": {
              "outlinewidth": 0,
              "ticks": ""
             }
            },
            "type": "scattergl"
           }
          ],
          "scattermapbox": [
           {
            "marker": {
             "colorbar": {
              "outlinewidth": 0,
              "ticks": ""
             }
            },
            "type": "scattermapbox"
           }
          ],
          "scatterpolar": [
           {
            "marker": {
             "colorbar": {
              "outlinewidth": 0,
              "ticks": ""
             }
            },
            "type": "scatterpolar"
           }
          ],
          "scatterpolargl": [
           {
            "marker": {
             "colorbar": {
              "outlinewidth": 0,
              "ticks": ""
             }
            },
            "type": "scatterpolargl"
           }
          ],
          "scatterternary": [
           {
            "marker": {
             "colorbar": {
              "outlinewidth": 0,
              "ticks": ""
             }
            },
            "type": "scatterternary"
           }
          ],
          "surface": [
           {
            "colorbar": {
             "outlinewidth": 0,
             "ticks": ""
            },
            "colorscale": [
             [
              0,
              "#0d0887"
             ],
             [
              0.1111111111111111,
              "#46039f"
             ],
             [
              0.2222222222222222,
              "#7201a8"
             ],
             [
              0.3333333333333333,
              "#9c179e"
             ],
             [
              0.4444444444444444,
              "#bd3786"
             ],
             [
              0.5555555555555556,
              "#d8576b"
             ],
             [
              0.6666666666666666,
              "#ed7953"
             ],
             [
              0.7777777777777778,
              "#fb9f3a"
             ],
             [
              0.8888888888888888,
              "#fdca26"
             ],
             [
              1,
              "#f0f921"
             ]
            ],
            "type": "surface"
           }
          ],
          "table": [
           {
            "cells": {
             "fill": {
              "color": "#EBF0F8"
             },
             "line": {
              "color": "white"
             }
            },
            "header": {
             "fill": {
              "color": "#C8D4E3"
             },
             "line": {
              "color": "white"
             }
            },
            "type": "table"
           }
          ]
         },
         "layout": {
          "annotationdefaults": {
           "arrowcolor": "#2a3f5f",
           "arrowhead": 0,
           "arrowwidth": 1
          },
          "autotypenumbers": "strict",
          "coloraxis": {
           "colorbar": {
            "outlinewidth": 0,
            "ticks": ""
           }
          },
          "colorscale": {
           "diverging": [
            [
             0,
             "#8e0152"
            ],
            [
             0.1,
             "#c51b7d"
            ],
            [
             0.2,
             "#de77ae"
            ],
            [
             0.3,
             "#f1b6da"
            ],
            [
             0.4,
             "#fde0ef"
            ],
            [
             0.5,
             "#f7f7f7"
            ],
            [
             0.6,
             "#e6f5d0"
            ],
            [
             0.7,
             "#b8e186"
            ],
            [
             0.8,
             "#7fbc41"
            ],
            [
             0.9,
             "#4d9221"
            ],
            [
             1,
             "#276419"
            ]
           ],
           "sequential": [
            [
             0,
             "#0d0887"
            ],
            [
             0.1111111111111111,
             "#46039f"
            ],
            [
             0.2222222222222222,
             "#7201a8"
            ],
            [
             0.3333333333333333,
             "#9c179e"
            ],
            [
             0.4444444444444444,
             "#bd3786"
            ],
            [
             0.5555555555555556,
             "#d8576b"
            ],
            [
             0.6666666666666666,
             "#ed7953"
            ],
            [
             0.7777777777777778,
             "#fb9f3a"
            ],
            [
             0.8888888888888888,
             "#fdca26"
            ],
            [
             1,
             "#f0f921"
            ]
           ],
           "sequentialminus": [
            [
             0,
             "#0d0887"
            ],
            [
             0.1111111111111111,
             "#46039f"
            ],
            [
             0.2222222222222222,
             "#7201a8"
            ],
            [
             0.3333333333333333,
             "#9c179e"
            ],
            [
             0.4444444444444444,
             "#bd3786"
            ],
            [
             0.5555555555555556,
             "#d8576b"
            ],
            [
             0.6666666666666666,
             "#ed7953"
            ],
            [
             0.7777777777777778,
             "#fb9f3a"
            ],
            [
             0.8888888888888888,
             "#fdca26"
            ],
            [
             1,
             "#f0f921"
            ]
           ]
          },
          "colorway": [
           "#636efa",
           "#EF553B",
           "#00cc96",
           "#ab63fa",
           "#FFA15A",
           "#19d3f3",
           "#FF6692",
           "#B6E880",
           "#FF97FF",
           "#FECB52"
          ],
          "font": {
           "color": "#2a3f5f"
          },
          "geo": {
           "bgcolor": "white",
           "lakecolor": "white",
           "landcolor": "#E5ECF6",
           "showlakes": true,
           "showland": true,
           "subunitcolor": "white"
          },
          "hoverlabel": {
           "align": "left"
          },
          "hovermode": "closest",
          "mapbox": {
           "style": "light"
          },
          "paper_bgcolor": "white",
          "plot_bgcolor": "#E5ECF6",
          "polar": {
           "angularaxis": {
            "gridcolor": "white",
            "linecolor": "white",
            "ticks": ""
           },
           "bgcolor": "#E5ECF6",
           "radialaxis": {
            "gridcolor": "white",
            "linecolor": "white",
            "ticks": ""
           }
          },
          "scene": {
           "xaxis": {
            "backgroundcolor": "#E5ECF6",
            "gridcolor": "white",
            "gridwidth": 2,
            "linecolor": "white",
            "showbackground": true,
            "ticks": "",
            "zerolinecolor": "white"
           },
           "yaxis": {
            "backgroundcolor": "#E5ECF6",
            "gridcolor": "white",
            "gridwidth": 2,
            "linecolor": "white",
            "showbackground": true,
            "ticks": "",
            "zerolinecolor": "white"
           },
           "zaxis": {
            "backgroundcolor": "#E5ECF6",
            "gridcolor": "white",
            "gridwidth": 2,
            "linecolor": "white",
            "showbackground": true,
            "ticks": "",
            "zerolinecolor": "white"
           }
          },
          "shapedefaults": {
           "line": {
            "color": "#2a3f5f"
           }
          },
          "ternary": {
           "aaxis": {
            "gridcolor": "white",
            "linecolor": "white",
            "ticks": ""
           },
           "baxis": {
            "gridcolor": "white",
            "linecolor": "white",
            "ticks": ""
           },
           "bgcolor": "#E5ECF6",
           "caxis": {
            "gridcolor": "white",
            "linecolor": "white",
            "ticks": ""
           }
          },
          "title": {
           "x": 0.05
          },
          "xaxis": {
           "automargin": true,
           "gridcolor": "white",
           "linecolor": "white",
           "ticks": "",
           "title": {
            "standoff": 15
           },
           "zerolinecolor": "white",
           "zerolinewidth": 2
          },
          "yaxis": {
           "automargin": true,
           "gridcolor": "white",
           "linecolor": "white",
           "ticks": "",
           "title": {
            "standoff": 15
           },
           "zerolinecolor": "white",
           "zerolinewidth": 2
          }
         }
        },
        "title": {
         "font": {
          "color": "#a5a7ab",
          "family": "roboto",
          "size": 25
         },
         "text": "Acticity Counts Distribution Train Set"
        },
        "width": 1100,
        "xaxis": {
         "showgrid": false,
         "tickangle": 0,
         "title": {
          "text": "Activity"
         }
        },
        "yaxis": {
         "showgrid": false,
         "title": {
          "text": "Count"
         }
        }
       }
      }
     },
     "metadata": {},
     "output_type": "display_data"
    },
    {
     "data": {
      "text/plain": [
       "<Figure size 500x500 with 0 Axes>"
      ]
     },
     "metadata": {},
     "output_type": "display_data"
    }
   ],
   "source": [
    "# check data balanced or not for train\n",
    "plt.figure(figsize=(25, 5))\n",
    "count_plot=sns.countplot(data=df_train, x='subject', hue='Activity')\n",
    "plt.gca().tick_params(axis='x')\n",
    "plt.gca().tick_params(axis='y')\n",
    "plt.xlabel( xlabel='Subjects')\n",
    "plt.ylabel( ylabel='Activity Counts')\n",
    "plt.legend([\"drinking\", \"walking\", \"walkingwith\"],bbox_to_anchor = (0.25, 1.1), ncol=6, loc='upper center')\n",
    "plt.title(\"Subjects Wise Activity Counts Train Set\", fontsize=25, loc='left', pad=50, fontfamily=\"roboto\")\n",
    "plt.show()\n",
    "\n",
    "\n",
    "plt.figure(figsize=(5, 5))\n",
    "label_counts = df_train['Activity'].value_counts()\n",
    "colors = px.colors.qualitative.Plotly\n",
    "\n",
    "graph = go.Bar(x=label_counts.index, y=label_counts.values, marker = dict(color = colors))\n",
    "layout = go.Layout(\n",
    "    height=450, width=1100,\n",
    "    title = 'Acticity Counts Distribution Train Set',\n",
    "    xaxis = dict(title = 'Activity', tickangle=0, showgrid=False),\n",
    "    yaxis = dict(title = 'Count', showgrid=False),\n",
    "    plot_bgcolor='#2d3035', paper_bgcolor='#2d3035',\n",
    "    title_font=dict(size=25, color='#a5a7ab', family='roboto'),\n",
    "    margin=dict(t=80, b=30, l=70, r=40),\n",
    "    font=dict(color='#8a8d93'))\n",
    "fig = go.Figure(data=[graph], layout = layout)\n",
    "fig.update_traces(textfont=dict(color='#fff'), marker=dict(line=dict(color='#ffffff', width=2)))\n",
    "\n",
    "iplot(fig)"
   ]
  },
  {
   "cell_type": "code",
   "execution_count": null,
   "metadata": {},
   "outputs": [
    {
     "data": {
      "application/vnd.plotly.v1+json": {
       "config": {
        "plotlyServerURL": "https://plot.ly"
       },
       "data": [
        {
         "domain": {
          "x": [
           0,
           0.45
          ],
          "y": [
           0,
           1
          ]
         },
         "hole": 0.5,
         "labels": [
          "drinking",
          "walking",
          "walkingwith"
         ],
         "marker": {
          "line": {
           "color": "#ffffff",
           "width": 2
          }
         },
         "name": "Train Set",
         "textfont": {
          "color": "#fff"
         },
         "type": "pie",
         "values": [
          25,
          24,
          23
         ]
        },
        {
         "domain": {
          "x": [
           0.55,
           1
          ],
          "y": [
           0,
           1
          ]
         },
         "hole": 0.5,
         "labels": [
          "walkingwith",
          "walking",
          "drinking"
         ],
         "marker": {
          "line": {
           "color": "#ffffff",
           "width": 2
          }
         },
         "name": "Test Set",
         "textfont": {
          "color": "#fff"
         },
         "type": "pie",
         "values": [
          7,
          6,
          5
         ]
        }
       ],
       "layout": {
        "font": {
         "color": "#8a8d93"
        },
        "paper_bgcolor": "#2d3035",
        "plot_bgcolor": "#2d3035",
        "template": {
         "data": {
          "bar": [
           {
            "error_x": {
             "color": "#2a3f5f"
            },
            "error_y": {
             "color": "#2a3f5f"
            },
            "marker": {
             "line": {
              "color": "#E5ECF6",
              "width": 0.5
             },
             "pattern": {
              "fillmode": "overlay",
              "size": 10,
              "solidity": 0.2
             }
            },
            "type": "bar"
           }
          ],
          "barpolar": [
           {
            "marker": {
             "line": {
              "color": "#E5ECF6",
              "width": 0.5
             },
             "pattern": {
              "fillmode": "overlay",
              "size": 10,
              "solidity": 0.2
             }
            },
            "type": "barpolar"
           }
          ],
          "carpet": [
           {
            "aaxis": {
             "endlinecolor": "#2a3f5f",
             "gridcolor": "white",
             "linecolor": "white",
             "minorgridcolor": "white",
             "startlinecolor": "#2a3f5f"
            },
            "baxis": {
             "endlinecolor": "#2a3f5f",
             "gridcolor": "white",
             "linecolor": "white",
             "minorgridcolor": "white",
             "startlinecolor": "#2a3f5f"
            },
            "type": "carpet"
           }
          ],
          "choropleth": [
           {
            "colorbar": {
             "outlinewidth": 0,
             "ticks": ""
            },
            "type": "choropleth"
           }
          ],
          "contour": [
           {
            "colorbar": {
             "outlinewidth": 0,
             "ticks": ""
            },
            "colorscale": [
             [
              0,
              "#0d0887"
             ],
             [
              0.1111111111111111,
              "#46039f"
             ],
             [
              0.2222222222222222,
              "#7201a8"
             ],
             [
              0.3333333333333333,
              "#9c179e"
             ],
             [
              0.4444444444444444,
              "#bd3786"
             ],
             [
              0.5555555555555556,
              "#d8576b"
             ],
             [
              0.6666666666666666,
              "#ed7953"
             ],
             [
              0.7777777777777778,
              "#fb9f3a"
             ],
             [
              0.8888888888888888,
              "#fdca26"
             ],
             [
              1,
              "#f0f921"
             ]
            ],
            "type": "contour"
           }
          ],
          "contourcarpet": [
           {
            "colorbar": {
             "outlinewidth": 0,
             "ticks": ""
            },
            "type": "contourcarpet"
           }
          ],
          "heatmap": [
           {
            "colorbar": {
             "outlinewidth": 0,
             "ticks": ""
            },
            "colorscale": [
             [
              0,
              "#0d0887"
             ],
             [
              0.1111111111111111,
              "#46039f"
             ],
             [
              0.2222222222222222,
              "#7201a8"
             ],
             [
              0.3333333333333333,
              "#9c179e"
             ],
             [
              0.4444444444444444,
              "#bd3786"
             ],
             [
              0.5555555555555556,
              "#d8576b"
             ],
             [
              0.6666666666666666,
              "#ed7953"
             ],
             [
              0.7777777777777778,
              "#fb9f3a"
             ],
             [
              0.8888888888888888,
              "#fdca26"
             ],
             [
              1,
              "#f0f921"
             ]
            ],
            "type": "heatmap"
           }
          ],
          "heatmapgl": [
           {
            "colorbar": {
             "outlinewidth": 0,
             "ticks": ""
            },
            "colorscale": [
             [
              0,
              "#0d0887"
             ],
             [
              0.1111111111111111,
              "#46039f"
             ],
             [
              0.2222222222222222,
              "#7201a8"
             ],
             [
              0.3333333333333333,
              "#9c179e"
             ],
             [
              0.4444444444444444,
              "#bd3786"
             ],
             [
              0.5555555555555556,
              "#d8576b"
             ],
             [
              0.6666666666666666,
              "#ed7953"
             ],
             [
              0.7777777777777778,
              "#fb9f3a"
             ],
             [
              0.8888888888888888,
              "#fdca26"
             ],
             [
              1,
              "#f0f921"
             ]
            ],
            "type": "heatmapgl"
           }
          ],
          "histogram": [
           {
            "marker": {
             "pattern": {
              "fillmode": "overlay",
              "size": 10,
              "solidity": 0.2
             }
            },
            "type": "histogram"
           }
          ],
          "histogram2d": [
           {
            "colorbar": {
             "outlinewidth": 0,
             "ticks": ""
            },
            "colorscale": [
             [
              0,
              "#0d0887"
             ],
             [
              0.1111111111111111,
              "#46039f"
             ],
             [
              0.2222222222222222,
              "#7201a8"
             ],
             [
              0.3333333333333333,
              "#9c179e"
             ],
             [
              0.4444444444444444,
              "#bd3786"
             ],
             [
              0.5555555555555556,
              "#d8576b"
             ],
             [
              0.6666666666666666,
              "#ed7953"
             ],
             [
              0.7777777777777778,
              "#fb9f3a"
             ],
             [
              0.8888888888888888,
              "#fdca26"
             ],
             [
              1,
              "#f0f921"
             ]
            ],
            "type": "histogram2d"
           }
          ],
          "histogram2dcontour": [
           {
            "colorbar": {
             "outlinewidth": 0,
             "ticks": ""
            },
            "colorscale": [
             [
              0,
              "#0d0887"
             ],
             [
              0.1111111111111111,
              "#46039f"
             ],
             [
              0.2222222222222222,
              "#7201a8"
             ],
             [
              0.3333333333333333,
              "#9c179e"
             ],
             [
              0.4444444444444444,
              "#bd3786"
             ],
             [
              0.5555555555555556,
              "#d8576b"
             ],
             [
              0.6666666666666666,
              "#ed7953"
             ],
             [
              0.7777777777777778,
              "#fb9f3a"
             ],
             [
              0.8888888888888888,
              "#fdca26"
             ],
             [
              1,
              "#f0f921"
             ]
            ],
            "type": "histogram2dcontour"
           }
          ],
          "mesh3d": [
           {
            "colorbar": {
             "outlinewidth": 0,
             "ticks": ""
            },
            "type": "mesh3d"
           }
          ],
          "parcoords": [
           {
            "line": {
             "colorbar": {
              "outlinewidth": 0,
              "ticks": ""
             }
            },
            "type": "parcoords"
           }
          ],
          "pie": [
           {
            "automargin": true,
            "type": "pie"
           }
          ],
          "scatter": [
           {
            "fillpattern": {
             "fillmode": "overlay",
             "size": 10,
             "solidity": 0.2
            },
            "type": "scatter"
           }
          ],
          "scatter3d": [
           {
            "line": {
             "colorbar": {
              "outlinewidth": 0,
              "ticks": ""
             }
            },
            "marker": {
             "colorbar": {
              "outlinewidth": 0,
              "ticks": ""
             }
            },
            "type": "scatter3d"
           }
          ],
          "scattercarpet": [
           {
            "marker": {
             "colorbar": {
              "outlinewidth": 0,
              "ticks": ""
             }
            },
            "type": "scattercarpet"
           }
          ],
          "scattergeo": [
           {
            "marker": {
             "colorbar": {
              "outlinewidth": 0,
              "ticks": ""
             }
            },
            "type": "scattergeo"
           }
          ],
          "scattergl": [
           {
            "marker": {
             "colorbar": {
              "outlinewidth": 0,
              "ticks": ""
             }
            },
            "type": "scattergl"
           }
          ],
          "scattermapbox": [
           {
            "marker": {
             "colorbar": {
              "outlinewidth": 0,
              "ticks": ""
             }
            },
            "type": "scattermapbox"
           }
          ],
          "scatterpolar": [
           {
            "marker": {
             "colorbar": {
              "outlinewidth": 0,
              "ticks": ""
             }
            },
            "type": "scatterpolar"
           }
          ],
          "scatterpolargl": [
           {
            "marker": {
             "colorbar": {
              "outlinewidth": 0,
              "ticks": ""
             }
            },
            "type": "scatterpolargl"
           }
          ],
          "scatterternary": [
           {
            "marker": {
             "colorbar": {
              "outlinewidth": 0,
              "ticks": ""
             }
            },
            "type": "scatterternary"
           }
          ],
          "surface": [
           {
            "colorbar": {
             "outlinewidth": 0,
             "ticks": ""
            },
            "colorscale": [
             [
              0,
              "#0d0887"
             ],
             [
              0.1111111111111111,
              "#46039f"
             ],
             [
              0.2222222222222222,
              "#7201a8"
             ],
             [
              0.3333333333333333,
              "#9c179e"
             ],
             [
              0.4444444444444444,
              "#bd3786"
             ],
             [
              0.5555555555555556,
              "#d8576b"
             ],
             [
              0.6666666666666666,
              "#ed7953"
             ],
             [
              0.7777777777777778,
              "#fb9f3a"
             ],
             [
              0.8888888888888888,
              "#fdca26"
             ],
             [
              1,
              "#f0f921"
             ]
            ],
            "type": "surface"
           }
          ],
          "table": [
           {
            "cells": {
             "fill": {
              "color": "#EBF0F8"
             },
             "line": {
              "color": "white"
             }
            },
            "header": {
             "fill": {
              "color": "#C8D4E3"
             },
             "line": {
              "color": "white"
             }
            },
            "type": "table"
           }
          ]
         },
         "layout": {
          "annotationdefaults": {
           "arrowcolor": "#2a3f5f",
           "arrowhead": 0,
           "arrowwidth": 1
          },
          "autotypenumbers": "strict",
          "coloraxis": {
           "colorbar": {
            "outlinewidth": 0,
            "ticks": ""
           }
          },
          "colorscale": {
           "diverging": [
            [
             0,
             "#8e0152"
            ],
            [
             0.1,
             "#c51b7d"
            ],
            [
             0.2,
             "#de77ae"
            ],
            [
             0.3,
             "#f1b6da"
            ],
            [
             0.4,
             "#fde0ef"
            ],
            [
             0.5,
             "#f7f7f7"
            ],
            [
             0.6,
             "#e6f5d0"
            ],
            [
             0.7,
             "#b8e186"
            ],
            [
             0.8,
             "#7fbc41"
            ],
            [
             0.9,
             "#4d9221"
            ],
            [
             1,
             "#276419"
            ]
           ],
           "sequential": [
            [
             0,
             "#0d0887"
            ],
            [
             0.1111111111111111,
             "#46039f"
            ],
            [
             0.2222222222222222,
             "#7201a8"
            ],
            [
             0.3333333333333333,
             "#9c179e"
            ],
            [
             0.4444444444444444,
             "#bd3786"
            ],
            [
             0.5555555555555556,
             "#d8576b"
            ],
            [
             0.6666666666666666,
             "#ed7953"
            ],
            [
             0.7777777777777778,
             "#fb9f3a"
            ],
            [
             0.8888888888888888,
             "#fdca26"
            ],
            [
             1,
             "#f0f921"
            ]
           ],
           "sequentialminus": [
            [
             0,
             "#0d0887"
            ],
            [
             0.1111111111111111,
             "#46039f"
            ],
            [
             0.2222222222222222,
             "#7201a8"
            ],
            [
             0.3333333333333333,
             "#9c179e"
            ],
            [
             0.4444444444444444,
             "#bd3786"
            ],
            [
             0.5555555555555556,
             "#d8576b"
            ],
            [
             0.6666666666666666,
             "#ed7953"
            ],
            [
             0.7777777777777778,
             "#fb9f3a"
            ],
            [
             0.8888888888888888,
             "#fdca26"
            ],
            [
             1,
             "#f0f921"
            ]
           ]
          },
          "colorway": [
           "#636efa",
           "#EF553B",
           "#00cc96",
           "#ab63fa",
           "#FFA15A",
           "#19d3f3",
           "#FF6692",
           "#B6E880",
           "#FF97FF",
           "#FECB52"
          ],
          "font": {
           "color": "#2a3f5f"
          },
          "geo": {
           "bgcolor": "white",
           "lakecolor": "white",
           "landcolor": "#E5ECF6",
           "showlakes": true,
           "showland": true,
           "subunitcolor": "white"
          },
          "hoverlabel": {
           "align": "left"
          },
          "hovermode": "closest",
          "mapbox": {
           "style": "light"
          },
          "paper_bgcolor": "white",
          "plot_bgcolor": "#E5ECF6",
          "polar": {
           "angularaxis": {
            "gridcolor": "white",
            "linecolor": "white",
            "ticks": ""
           },
           "bgcolor": "#E5ECF6",
           "radialaxis": {
            "gridcolor": "white",
            "linecolor": "white",
            "ticks": ""
           }
          },
          "scene": {
           "xaxis": {
            "backgroundcolor": "#E5ECF6",
            "gridcolor": "white",
            "gridwidth": 2,
            "linecolor": "white",
            "showbackground": true,
            "ticks": "",
            "zerolinecolor": "white"
           },
           "yaxis": {
            "backgroundcolor": "#E5ECF6",
            "gridcolor": "white",
            "gridwidth": 2,
            "linecolor": "white",
            "showbackground": true,
            "ticks": "",
            "zerolinecolor": "white"
           },
           "zaxis": {
            "backgroundcolor": "#E5ECF6",
            "gridcolor": "white",
            "gridwidth": 2,
            "linecolor": "white",
            "showbackground": true,
            "ticks": "",
            "zerolinecolor": "white"
           }
          },
          "shapedefaults": {
           "line": {
            "color": "#2a3f5f"
           }
          },
          "ternary": {
           "aaxis": {
            "gridcolor": "white",
            "linecolor": "white",
            "ticks": ""
           },
           "baxis": {
            "gridcolor": "white",
            "linecolor": "white",
            "ticks": ""
           },
           "bgcolor": "#E5ECF6",
           "caxis": {
            "gridcolor": "white",
            "linecolor": "white",
            "ticks": ""
           }
          },
          "title": {
           "x": 0.05
          },
          "xaxis": {
           "automargin": true,
           "gridcolor": "white",
           "linecolor": "white",
           "ticks": "",
           "title": {
            "standoff": 15
           },
           "zerolinecolor": "white",
           "zerolinewidth": 2
          },
          "yaxis": {
           "automargin": true,
           "gridcolor": "white",
           "linecolor": "white",
           "ticks": "",
           "title": {
            "standoff": 15
           },
           "zerolinecolor": "white",
           "zerolinewidth": 2
          }
         }
        },
        "title": {
         "font": {
          "color": "#a5a7ab",
          "family": "roboto",
          "size": 25
         },
         "text": "Acticity Counts Distribution For Train & Test Set"
        },
        "xaxis": {
         "showgrid": false,
         "tickangle": 0,
         "title": {
          "text": "Activity"
         }
        },
        "yaxis": {
         "showgrid": false,
         "title": {
          "text": "Count"
         }
        }
       }
      }
     },
     "metadata": {},
     "output_type": "display_data"
    }
   ],
   "source": [
    "# Acticity Counts Distribution For Train & Test Set using pie chart\n",
    "label_counts_for_train = df_train['Activity'].value_counts()\n",
    "colors = px.colors.qualitative.Plotly\n",
    "\n",
    "label_counts_for_test = df_test['Activity'].value_counts()\n",
    "\n",
    "\n",
    "fig = make_subplots(rows=1, cols=2, specs=[[{'type':'domain'},{'type':'domain'}]])\n",
    "fig.add_trace(go.Pie(hole=0.5, labels=label_counts_for_train.index, values=label_counts_for_train.values, name=\"Train Set\"), 1, 1)\n",
    "fig.add_trace(go.Pie(hole=0.5, labels=label_counts_for_test.index, values=label_counts_for_test.values, name=\"Test Set\"), 1, 2)\n",
    "\n",
    "fig.update_layout(\n",
    "#     height=450, width=1100,\n",
    "    title = 'Acticity Counts Distribution For Train & Test Set',\n",
    "    xaxis = dict(title = 'Activity', tickangle=0, showgrid=False),\n",
    "    yaxis = dict(title = 'Count', showgrid=False),\n",
    "    plot_bgcolor='#2d3035', paper_bgcolor='#2d3035',\n",
    "    title_font=dict(size=25, color='#a5a7ab', family='roboto'),\n",
    "#     margin=dict(t=80, b=30, l=70, r=40),\n",
    "    font=dict(color='#8a8d93'))\n",
    "# graph = go.Figure(data=[graph], layout = layout)\n",
    "fig.update_traces(textfont=dict(color='#fff'), marker=dict(line=dict(color='#ffffff', width=2)))\n",
    "fig.show()"
   ]
  },
  {
   "cell_type": "markdown",
   "metadata": {},
   "source": [
    "```\n",
    "The proportion between outliers and the range is also important to understand. This can be achieved with the following piece of code.\n",
    "```"
   ]
  },
  {
   "cell_type": "code",
   "execution_count": null,
   "metadata": {},
   "outputs": [
    {
     "data": {
      "application/vnd.plotly.v1+json": {
       "config": {
        "plotlyServerURL": "https://plot.ly"
       },
       "data": [
        {
         "name": "Train Set",
         "notched": true,
         "type": "box",
         "y": [
          2,
          3,
          3,
          3,
          3,
          2,
          2,
          1,
          3,
          3,
          2,
          3,
          1,
          3,
          1,
          2,
          2,
          1,
          2,
          2,
          1,
          3,
          1,
          1,
          3,
          1,
          2,
          1,
          1,
          1,
          1,
          2,
          1,
          3,
          1,
          3,
          2,
          3,
          3,
          2,
          2,
          2,
          2,
          3,
          3,
          1,
          3,
          2,
          2,
          2,
          3,
          2,
          2,
          3,
          2,
          3,
          3,
          2,
          1,
          1,
          2,
          1,
          1,
          1,
          3,
          3,
          3,
          1,
          3,
          3,
          1,
          2
         ]
        },
        {
         "name": "Test Set",
         "notched": true,
         "type": "box",
         "y": [
          2,
          1,
          2,
          3,
          1,
          1,
          2,
          3,
          1,
          2,
          3,
          2,
          2,
          3,
          1,
          1,
          1,
          1
         ]
        }
       ],
       "layout": {
        "font": {
         "color": "#8a8d93"
        },
        "height": 500,
        "margin": {
         "b": 10,
         "l": 70,
         "r": 40,
         "t": 100
        },
        "paper_bgcolor": "#2d3035",
        "plot_bgcolor": "#2d3035",
        "template": {
         "data": {
          "bar": [
           {
            "error_x": {
             "color": "#2a3f5f"
            },
            "error_y": {
             "color": "#2a3f5f"
            },
            "marker": {
             "line": {
              "color": "#E5ECF6",
              "width": 0.5
             },
             "pattern": {
              "fillmode": "overlay",
              "size": 10,
              "solidity": 0.2
             }
            },
            "type": "bar"
           }
          ],
          "barpolar": [
           {
            "marker": {
             "line": {
              "color": "#E5ECF6",
              "width": 0.5
             },
             "pattern": {
              "fillmode": "overlay",
              "size": 10,
              "solidity": 0.2
             }
            },
            "type": "barpolar"
           }
          ],
          "carpet": [
           {
            "aaxis": {
             "endlinecolor": "#2a3f5f",
             "gridcolor": "white",
             "linecolor": "white",
             "minorgridcolor": "white",
             "startlinecolor": "#2a3f5f"
            },
            "baxis": {
             "endlinecolor": "#2a3f5f",
             "gridcolor": "white",
             "linecolor": "white",
             "minorgridcolor": "white",
             "startlinecolor": "#2a3f5f"
            },
            "type": "carpet"
           }
          ],
          "choropleth": [
           {
            "colorbar": {
             "outlinewidth": 0,
             "ticks": ""
            },
            "type": "choropleth"
           }
          ],
          "contour": [
           {
            "colorbar": {
             "outlinewidth": 0,
             "ticks": ""
            },
            "colorscale": [
             [
              0,
              "#0d0887"
             ],
             [
              0.1111111111111111,
              "#46039f"
             ],
             [
              0.2222222222222222,
              "#7201a8"
             ],
             [
              0.3333333333333333,
              "#9c179e"
             ],
             [
              0.4444444444444444,
              "#bd3786"
             ],
             [
              0.5555555555555556,
              "#d8576b"
             ],
             [
              0.6666666666666666,
              "#ed7953"
             ],
             [
              0.7777777777777778,
              "#fb9f3a"
             ],
             [
              0.8888888888888888,
              "#fdca26"
             ],
             [
              1,
              "#f0f921"
             ]
            ],
            "type": "contour"
           }
          ],
          "contourcarpet": [
           {
            "colorbar": {
             "outlinewidth": 0,
             "ticks": ""
            },
            "type": "contourcarpet"
           }
          ],
          "heatmap": [
           {
            "colorbar": {
             "outlinewidth": 0,
             "ticks": ""
            },
            "colorscale": [
             [
              0,
              "#0d0887"
             ],
             [
              0.1111111111111111,
              "#46039f"
             ],
             [
              0.2222222222222222,
              "#7201a8"
             ],
             [
              0.3333333333333333,
              "#9c179e"
             ],
             [
              0.4444444444444444,
              "#bd3786"
             ],
             [
              0.5555555555555556,
              "#d8576b"
             ],
             [
              0.6666666666666666,
              "#ed7953"
             ],
             [
              0.7777777777777778,
              "#fb9f3a"
             ],
             [
              0.8888888888888888,
              "#fdca26"
             ],
             [
              1,
              "#f0f921"
             ]
            ],
            "type": "heatmap"
           }
          ],
          "heatmapgl": [
           {
            "colorbar": {
             "outlinewidth": 0,
             "ticks": ""
            },
            "colorscale": [
             [
              0,
              "#0d0887"
             ],
             [
              0.1111111111111111,
              "#46039f"
             ],
             [
              0.2222222222222222,
              "#7201a8"
             ],
             [
              0.3333333333333333,
              "#9c179e"
             ],
             [
              0.4444444444444444,
              "#bd3786"
             ],
             [
              0.5555555555555556,
              "#d8576b"
             ],
             [
              0.6666666666666666,
              "#ed7953"
             ],
             [
              0.7777777777777778,
              "#fb9f3a"
             ],
             [
              0.8888888888888888,
              "#fdca26"
             ],
             [
              1,
              "#f0f921"
             ]
            ],
            "type": "heatmapgl"
           }
          ],
          "histogram": [
           {
            "marker": {
             "pattern": {
              "fillmode": "overlay",
              "size": 10,
              "solidity": 0.2
             }
            },
            "type": "histogram"
           }
          ],
          "histogram2d": [
           {
            "colorbar": {
             "outlinewidth": 0,
             "ticks": ""
            },
            "colorscale": [
             [
              0,
              "#0d0887"
             ],
             [
              0.1111111111111111,
              "#46039f"
             ],
             [
              0.2222222222222222,
              "#7201a8"
             ],
             [
              0.3333333333333333,
              "#9c179e"
             ],
             [
              0.4444444444444444,
              "#bd3786"
             ],
             [
              0.5555555555555556,
              "#d8576b"
             ],
             [
              0.6666666666666666,
              "#ed7953"
             ],
             [
              0.7777777777777778,
              "#fb9f3a"
             ],
             [
              0.8888888888888888,
              "#fdca26"
             ],
             [
              1,
              "#f0f921"
             ]
            ],
            "type": "histogram2d"
           }
          ],
          "histogram2dcontour": [
           {
            "colorbar": {
             "outlinewidth": 0,
             "ticks": ""
            },
            "colorscale": [
             [
              0,
              "#0d0887"
             ],
             [
              0.1111111111111111,
              "#46039f"
             ],
             [
              0.2222222222222222,
              "#7201a8"
             ],
             [
              0.3333333333333333,
              "#9c179e"
             ],
             [
              0.4444444444444444,
              "#bd3786"
             ],
             [
              0.5555555555555556,
              "#d8576b"
             ],
             [
              0.6666666666666666,
              "#ed7953"
             ],
             [
              0.7777777777777778,
              "#fb9f3a"
             ],
             [
              0.8888888888888888,
              "#fdca26"
             ],
             [
              1,
              "#f0f921"
             ]
            ],
            "type": "histogram2dcontour"
           }
          ],
          "mesh3d": [
           {
            "colorbar": {
             "outlinewidth": 0,
             "ticks": ""
            },
            "type": "mesh3d"
           }
          ],
          "parcoords": [
           {
            "line": {
             "colorbar": {
              "outlinewidth": 0,
              "ticks": ""
             }
            },
            "type": "parcoords"
           }
          ],
          "pie": [
           {
            "automargin": true,
            "type": "pie"
           }
          ],
          "scatter": [
           {
            "fillpattern": {
             "fillmode": "overlay",
             "size": 10,
             "solidity": 0.2
            },
            "type": "scatter"
           }
          ],
          "scatter3d": [
           {
            "line": {
             "colorbar": {
              "outlinewidth": 0,
              "ticks": ""
             }
            },
            "marker": {
             "colorbar": {
              "outlinewidth": 0,
              "ticks": ""
             }
            },
            "type": "scatter3d"
           }
          ],
          "scattercarpet": [
           {
            "marker": {
             "colorbar": {
              "outlinewidth": 0,
              "ticks": ""
             }
            },
            "type": "scattercarpet"
           }
          ],
          "scattergeo": [
           {
            "marker": {
             "colorbar": {
              "outlinewidth": 0,
              "ticks": ""
             }
            },
            "type": "scattergeo"
           }
          ],
          "scattergl": [
           {
            "marker": {
             "colorbar": {
              "outlinewidth": 0,
              "ticks": ""
             }
            },
            "type": "scattergl"
           }
          ],
          "scattermapbox": [
           {
            "marker": {
             "colorbar": {
              "outlinewidth": 0,
              "ticks": ""
             }
            },
            "type": "scattermapbox"
           }
          ],
          "scatterpolar": [
           {
            "marker": {
             "colorbar": {
              "outlinewidth": 0,
              "ticks": ""
             }
            },
            "type": "scatterpolar"
           }
          ],
          "scatterpolargl": [
           {
            "marker": {
             "colorbar": {
              "outlinewidth": 0,
              "ticks": ""
             }
            },
            "type": "scatterpolargl"
           }
          ],
          "scatterternary": [
           {
            "marker": {
             "colorbar": {
              "outlinewidth": 0,
              "ticks": ""
             }
            },
            "type": "scatterternary"
           }
          ],
          "surface": [
           {
            "colorbar": {
             "outlinewidth": 0,
             "ticks": ""
            },
            "colorscale": [
             [
              0,
              "#0d0887"
             ],
             [
              0.1111111111111111,
              "#46039f"
             ],
             [
              0.2222222222222222,
              "#7201a8"
             ],
             [
              0.3333333333333333,
              "#9c179e"
             ],
             [
              0.4444444444444444,
              "#bd3786"
             ],
             [
              0.5555555555555556,
              "#d8576b"
             ],
             [
              0.6666666666666666,
              "#ed7953"
             ],
             [
              0.7777777777777778,
              "#fb9f3a"
             ],
             [
              0.8888888888888888,
              "#fdca26"
             ],
             [
              1,
              "#f0f921"
             ]
            ],
            "type": "surface"
           }
          ],
          "table": [
           {
            "cells": {
             "fill": {
              "color": "#EBF0F8"
             },
             "line": {
              "color": "white"
             }
            },
            "header": {
             "fill": {
              "color": "#C8D4E3"
             },
             "line": {
              "color": "white"
             }
            },
            "type": "table"
           }
          ]
         },
         "layout": {
          "annotationdefaults": {
           "arrowcolor": "#2a3f5f",
           "arrowhead": 0,
           "arrowwidth": 1
          },
          "autotypenumbers": "strict",
          "coloraxis": {
           "colorbar": {
            "outlinewidth": 0,
            "ticks": ""
           }
          },
          "colorscale": {
           "diverging": [
            [
             0,
             "#8e0152"
            ],
            [
             0.1,
             "#c51b7d"
            ],
            [
             0.2,
             "#de77ae"
            ],
            [
             0.3,
             "#f1b6da"
            ],
            [
             0.4,
             "#fde0ef"
            ],
            [
             0.5,
             "#f7f7f7"
            ],
            [
             0.6,
             "#e6f5d0"
            ],
            [
             0.7,
             "#b8e186"
            ],
            [
             0.8,
             "#7fbc41"
            ],
            [
             0.9,
             "#4d9221"
            ],
            [
             1,
             "#276419"
            ]
           ],
           "sequential": [
            [
             0,
             "#0d0887"
            ],
            [
             0.1111111111111111,
             "#46039f"
            ],
            [
             0.2222222222222222,
             "#7201a8"
            ],
            [
             0.3333333333333333,
             "#9c179e"
            ],
            [
             0.4444444444444444,
             "#bd3786"
            ],
            [
             0.5555555555555556,
             "#d8576b"
            ],
            [
             0.6666666666666666,
             "#ed7953"
            ],
            [
             0.7777777777777778,
             "#fb9f3a"
            ],
            [
             0.8888888888888888,
             "#fdca26"
            ],
            [
             1,
             "#f0f921"
            ]
           ],
           "sequentialminus": [
            [
             0,
             "#0d0887"
            ],
            [
             0.1111111111111111,
             "#46039f"
            ],
            [
             0.2222222222222222,
             "#7201a8"
            ],
            [
             0.3333333333333333,
             "#9c179e"
            ],
            [
             0.4444444444444444,
             "#bd3786"
            ],
            [
             0.5555555555555556,
             "#d8576b"
            ],
            [
             0.6666666666666666,
             "#ed7953"
            ],
            [
             0.7777777777777778,
             "#fb9f3a"
            ],
            [
             0.8888888888888888,
             "#fdca26"
            ],
            [
             1,
             "#f0f921"
            ]
           ]
          },
          "colorway": [
           "#636efa",
           "#EF553B",
           "#00cc96",
           "#ab63fa",
           "#FFA15A",
           "#19d3f3",
           "#FF6692",
           "#B6E880",
           "#FF97FF",
           "#FECB52"
          ],
          "font": {
           "color": "#2a3f5f"
          },
          "geo": {
           "bgcolor": "white",
           "lakecolor": "white",
           "landcolor": "#E5ECF6",
           "showlakes": true,
           "showland": true,
           "subunitcolor": "white"
          },
          "hoverlabel": {
           "align": "left"
          },
          "hovermode": "closest",
          "mapbox": {
           "style": "light"
          },
          "paper_bgcolor": "white",
          "plot_bgcolor": "#E5ECF6",
          "polar": {
           "angularaxis": {
            "gridcolor": "white",
            "linecolor": "white",
            "ticks": ""
           },
           "bgcolor": "#E5ECF6",
           "radialaxis": {
            "gridcolor": "white",
            "linecolor": "white",
            "ticks": ""
           }
          },
          "scene": {
           "xaxis": {
            "backgroundcolor": "#E5ECF6",
            "gridcolor": "white",
            "gridwidth": 2,
            "linecolor": "white",
            "showbackground": true,
            "ticks": "",
            "zerolinecolor": "white"
           },
           "yaxis": {
            "backgroundcolor": "#E5ECF6",
            "gridcolor": "white",
            "gridwidth": 2,
            "linecolor": "white",
            "showbackground": true,
            "ticks": "",
            "zerolinecolor": "white"
           },
           "zaxis": {
            "backgroundcolor": "#E5ECF6",
            "gridcolor": "white",
            "gridwidth": 2,
            "linecolor": "white",
            "showbackground": true,
            "ticks": "",
            "zerolinecolor": "white"
           }
          },
          "shapedefaults": {
           "line": {
            "color": "#2a3f5f"
           }
          },
          "ternary": {
           "aaxis": {
            "gridcolor": "white",
            "linecolor": "white",
            "ticks": ""
           },
           "baxis": {
            "gridcolor": "white",
            "linecolor": "white",
            "ticks": ""
           },
           "bgcolor": "#E5ECF6",
           "caxis": {
            "gridcolor": "white",
            "linecolor": "white",
            "ticks": ""
           }
          },
          "title": {
           "x": 0.05
          },
          "xaxis": {
           "automargin": true,
           "gridcolor": "white",
           "linecolor": "white",
           "ticks": "",
           "title": {
            "standoff": 15
           },
           "zerolinecolor": "white",
           "zerolinewidth": 2
          },
          "yaxis": {
           "automargin": true,
           "gridcolor": "white",
           "linecolor": "white",
           "ticks": "",
           "title": {
            "standoff": 15
           },
           "zerolinecolor": "white",
           "zerolinewidth": 2
          }
         }
        },
        "title": {
         "font": {
          "color": "#a5a7ab",
          "family": "Muli",
          "size": 25
         },
         "text": "Check Outliers In Train & Test"
        },
        "width": 500,
        "xaxis": {
         "showgrid": false
        },
        "yaxis": {
         "showgrid": false
        }
       }
      }
     },
     "metadata": {},
     "output_type": "display_data"
    }
   ],
   "source": [
    "# fig = make_subplots(rows=1, cols=2, specs=[[{'type':'domain'},{'type':'domain'}]])\n",
    "fig = go.Figure()\n",
    "fig.add_trace(go.Box(y=df_train['subject'], name=\"Train Set\", notched=True))\n",
    "fig.add_trace(go.Box( y=df_test['subject'], name=\"Test Set\", notched=True))\n",
    "\n",
    "\n",
    "fig.update_xaxes(showgrid=False)\n",
    "fig.update_layout(\n",
    "    title=\"Check Outliers In Train & Test\",\n",
    "    height=500, width=500,\n",
    "    title_font=dict(size=25, color='#a5a7ab', family='Muli'),\n",
    "    font=dict(color='#8a8d93'),\n",
    "    plot_bgcolor='#2d3035', paper_bgcolor='#2d3035',\n",
    "    margin=dict(t=100, b=10, l=70, r=40), \n",
    "    )\n",
    "fig.update_xaxes(showgrid=False)\n",
    "fig.update_yaxes(showgrid=False)\n"
   ]
  },
  {
   "cell_type": "markdown",
   "metadata": {},
   "source": [
    "```\n",
    "The Train and Test Sets have a similar median, but the Train Set is slightly less spread out and has fewer extreme values. The Test Set shows longer whiskers, suggesting it may have a few larger or more outliers.\n",
    "```"
   ]
  },
  {
   "cell_type": "code",
   "execution_count": null,
   "metadata": {},
   "outputs": [
    {
     "data": {
      "application/vnd.plotly.v1+json": {
       "config": {
        "linkText": "Export to plot.ly",
        "plotlyServerURL": "https://plot.ly",
        "showLink": false
       },
       "data": [
        {
         "marker": {
          "color": [
           "#636EFA",
           "#EF553B",
           "#00CC96",
           "#AB63FA",
           "#FFA15A",
           "#19D3F3",
           "#FF6692",
           "#B6E880",
           "#FF97FF",
           "#FECB52"
          ],
          "line": {
           "color": "#ffffff",
           "width": 2
          }
         },
         "textfont": {
          "color": "#fff"
         },
         "type": "bar",
         "x": [
          "Accelerometer",
          "Gyroscope",
          "Linear",
          "Others"
         ],
         "y": [
          12,
          12,
          12,
          2
         ]
        }
       ],
       "layout": {
        "font": {
         "color": "#8a8d93"
        },
        "height": 450,
        "margin": {
         "b": 30,
         "l": 70,
         "r": 40,
         "t": 80
        },
        "paper_bgcolor": "#2d3035",
        "plot_bgcolor": "#2d3035",
        "template": {
         "data": {
          "bar": [
           {
            "error_x": {
             "color": "#2a3f5f"
            },
            "error_y": {
             "color": "#2a3f5f"
            },
            "marker": {
             "line": {
              "color": "#E5ECF6",
              "width": 0.5
             },
             "pattern": {
              "fillmode": "overlay",
              "size": 10,
              "solidity": 0.2
             }
            },
            "type": "bar"
           }
          ],
          "barpolar": [
           {
            "marker": {
             "line": {
              "color": "#E5ECF6",
              "width": 0.5
             },
             "pattern": {
              "fillmode": "overlay",
              "size": 10,
              "solidity": 0.2
             }
            },
            "type": "barpolar"
           }
          ],
          "carpet": [
           {
            "aaxis": {
             "endlinecolor": "#2a3f5f",
             "gridcolor": "white",
             "linecolor": "white",
             "minorgridcolor": "white",
             "startlinecolor": "#2a3f5f"
            },
            "baxis": {
             "endlinecolor": "#2a3f5f",
             "gridcolor": "white",
             "linecolor": "white",
             "minorgridcolor": "white",
             "startlinecolor": "#2a3f5f"
            },
            "type": "carpet"
           }
          ],
          "choropleth": [
           {
            "colorbar": {
             "outlinewidth": 0,
             "ticks": ""
            },
            "type": "choropleth"
           }
          ],
          "contour": [
           {
            "colorbar": {
             "outlinewidth": 0,
             "ticks": ""
            },
            "colorscale": [
             [
              0,
              "#0d0887"
             ],
             [
              0.1111111111111111,
              "#46039f"
             ],
             [
              0.2222222222222222,
              "#7201a8"
             ],
             [
              0.3333333333333333,
              "#9c179e"
             ],
             [
              0.4444444444444444,
              "#bd3786"
             ],
             [
              0.5555555555555556,
              "#d8576b"
             ],
             [
              0.6666666666666666,
              "#ed7953"
             ],
             [
              0.7777777777777778,
              "#fb9f3a"
             ],
             [
              0.8888888888888888,
              "#fdca26"
             ],
             [
              1,
              "#f0f921"
             ]
            ],
            "type": "contour"
           }
          ],
          "contourcarpet": [
           {
            "colorbar": {
             "outlinewidth": 0,
             "ticks": ""
            },
            "type": "contourcarpet"
           }
          ],
          "heatmap": [
           {
            "colorbar": {
             "outlinewidth": 0,
             "ticks": ""
            },
            "colorscale": [
             [
              0,
              "#0d0887"
             ],
             [
              0.1111111111111111,
              "#46039f"
             ],
             [
              0.2222222222222222,
              "#7201a8"
             ],
             [
              0.3333333333333333,
              "#9c179e"
             ],
             [
              0.4444444444444444,
              "#bd3786"
             ],
             [
              0.5555555555555556,
              "#d8576b"
             ],
             [
              0.6666666666666666,
              "#ed7953"
             ],
             [
              0.7777777777777778,
              "#fb9f3a"
             ],
             [
              0.8888888888888888,
              "#fdca26"
             ],
             [
              1,
              "#f0f921"
             ]
            ],
            "type": "heatmap"
           }
          ],
          "heatmapgl": [
           {
            "colorbar": {
             "outlinewidth": 0,
             "ticks": ""
            },
            "colorscale": [
             [
              0,
              "#0d0887"
             ],
             [
              0.1111111111111111,
              "#46039f"
             ],
             [
              0.2222222222222222,
              "#7201a8"
             ],
             [
              0.3333333333333333,
              "#9c179e"
             ],
             [
              0.4444444444444444,
              "#bd3786"
             ],
             [
              0.5555555555555556,
              "#d8576b"
             ],
             [
              0.6666666666666666,
              "#ed7953"
             ],
             [
              0.7777777777777778,
              "#fb9f3a"
             ],
             [
              0.8888888888888888,
              "#fdca26"
             ],
             [
              1,
              "#f0f921"
             ]
            ],
            "type": "heatmapgl"
           }
          ],
          "histogram": [
           {
            "marker": {
             "pattern": {
              "fillmode": "overlay",
              "size": 10,
              "solidity": 0.2
             }
            },
            "type": "histogram"
           }
          ],
          "histogram2d": [
           {
            "colorbar": {
             "outlinewidth": 0,
             "ticks": ""
            },
            "colorscale": [
             [
              0,
              "#0d0887"
             ],
             [
              0.1111111111111111,
              "#46039f"
             ],
             [
              0.2222222222222222,
              "#7201a8"
             ],
             [
              0.3333333333333333,
              "#9c179e"
             ],
             [
              0.4444444444444444,
              "#bd3786"
             ],
             [
              0.5555555555555556,
              "#d8576b"
             ],
             [
              0.6666666666666666,
              "#ed7953"
             ],
             [
              0.7777777777777778,
              "#fb9f3a"
             ],
             [
              0.8888888888888888,
              "#fdca26"
             ],
             [
              1,
              "#f0f921"
             ]
            ],
            "type": "histogram2d"
           }
          ],
          "histogram2dcontour": [
           {
            "colorbar": {
             "outlinewidth": 0,
             "ticks": ""
            },
            "colorscale": [
             [
              0,
              "#0d0887"
             ],
             [
              0.1111111111111111,
              "#46039f"
             ],
             [
              0.2222222222222222,
              "#7201a8"
             ],
             [
              0.3333333333333333,
              "#9c179e"
             ],
             [
              0.4444444444444444,
              "#bd3786"
             ],
             [
              0.5555555555555556,
              "#d8576b"
             ],
             [
              0.6666666666666666,
              "#ed7953"
             ],
             [
              0.7777777777777778,
              "#fb9f3a"
             ],
             [
              0.8888888888888888,
              "#fdca26"
             ],
             [
              1,
              "#f0f921"
             ]
            ],
            "type": "histogram2dcontour"
           }
          ],
          "mesh3d": [
           {
            "colorbar": {
             "outlinewidth": 0,
             "ticks": ""
            },
            "type": "mesh3d"
           }
          ],
          "parcoords": [
           {
            "line": {
             "colorbar": {
              "outlinewidth": 0,
              "ticks": ""
             }
            },
            "type": "parcoords"
           }
          ],
          "pie": [
           {
            "automargin": true,
            "type": "pie"
           }
          ],
          "scatter": [
           {
            "fillpattern": {
             "fillmode": "overlay",
             "size": 10,
             "solidity": 0.2
            },
            "type": "scatter"
           }
          ],
          "scatter3d": [
           {
            "line": {
             "colorbar": {
              "outlinewidth": 0,
              "ticks": ""
             }
            },
            "marker": {
             "colorbar": {
              "outlinewidth": 0,
              "ticks": ""
             }
            },
            "type": "scatter3d"
           }
          ],
          "scattercarpet": [
           {
            "marker": {
             "colorbar": {
              "outlinewidth": 0,
              "ticks": ""
             }
            },
            "type": "scattercarpet"
           }
          ],
          "scattergeo": [
           {
            "marker": {
             "colorbar": {
              "outlinewidth": 0,
              "ticks": ""
             }
            },
            "type": "scattergeo"
           }
          ],
          "scattergl": [
           {
            "marker": {
             "colorbar": {
              "outlinewidth": 0,
              "ticks": ""
             }
            },
            "type": "scattergl"
           }
          ],
          "scattermapbox": [
           {
            "marker": {
             "colorbar": {
              "outlinewidth": 0,
              "ticks": ""
             }
            },
            "type": "scattermapbox"
           }
          ],
          "scatterpolar": [
           {
            "marker": {
             "colorbar": {
              "outlinewidth": 0,
              "ticks": ""
             }
            },
            "type": "scatterpolar"
           }
          ],
          "scatterpolargl": [
           {
            "marker": {
             "colorbar": {
              "outlinewidth": 0,
              "ticks": ""
             }
            },
            "type": "scatterpolargl"
           }
          ],
          "scatterternary": [
           {
            "marker": {
             "colorbar": {
              "outlinewidth": 0,
              "ticks": ""
             }
            },
            "type": "scatterternary"
           }
          ],
          "surface": [
           {
            "colorbar": {
             "outlinewidth": 0,
             "ticks": ""
            },
            "colorscale": [
             [
              0,
              "#0d0887"
             ],
             [
              0.1111111111111111,
              "#46039f"
             ],
             [
              0.2222222222222222,
              "#7201a8"
             ],
             [
              0.3333333333333333,
              "#9c179e"
             ],
             [
              0.4444444444444444,
              "#bd3786"
             ],
             [
              0.5555555555555556,
              "#d8576b"
             ],
             [
              0.6666666666666666,
              "#ed7953"
             ],
             [
              0.7777777777777778,
              "#fb9f3a"
             ],
             [
              0.8888888888888888,
              "#fdca26"
             ],
             [
              1,
              "#f0f921"
             ]
            ],
            "type": "surface"
           }
          ],
          "table": [
           {
            "cells": {
             "fill": {
              "color": "#EBF0F8"
             },
             "line": {
              "color": "white"
             }
            },
            "header": {
             "fill": {
              "color": "#C8D4E3"
             },
             "line": {
              "color": "white"
             }
            },
            "type": "table"
           }
          ]
         },
         "layout": {
          "annotationdefaults": {
           "arrowcolor": "#2a3f5f",
           "arrowhead": 0,
           "arrowwidth": 1
          },
          "autotypenumbers": "strict",
          "coloraxis": {
           "colorbar": {
            "outlinewidth": 0,
            "ticks": ""
           }
          },
          "colorscale": {
           "diverging": [
            [
             0,
             "#8e0152"
            ],
            [
             0.1,
             "#c51b7d"
            ],
            [
             0.2,
             "#de77ae"
            ],
            [
             0.3,
             "#f1b6da"
            ],
            [
             0.4,
             "#fde0ef"
            ],
            [
             0.5,
             "#f7f7f7"
            ],
            [
             0.6,
             "#e6f5d0"
            ],
            [
             0.7,
             "#b8e186"
            ],
            [
             0.8,
             "#7fbc41"
            ],
            [
             0.9,
             "#4d9221"
            ],
            [
             1,
             "#276419"
            ]
           ],
           "sequential": [
            [
             0,
             "#0d0887"
            ],
            [
             0.1111111111111111,
             "#46039f"
            ],
            [
             0.2222222222222222,
             "#7201a8"
            ],
            [
             0.3333333333333333,
             "#9c179e"
            ],
            [
             0.4444444444444444,
             "#bd3786"
            ],
            [
             0.5555555555555556,
             "#d8576b"
            ],
            [
             0.6666666666666666,
             "#ed7953"
            ],
            [
             0.7777777777777778,
             "#fb9f3a"
            ],
            [
             0.8888888888888888,
             "#fdca26"
            ],
            [
             1,
             "#f0f921"
            ]
           ],
           "sequentialminus": [
            [
             0,
             "#0d0887"
            ],
            [
             0.1111111111111111,
             "#46039f"
            ],
            [
             0.2222222222222222,
             "#7201a8"
            ],
            [
             0.3333333333333333,
             "#9c179e"
            ],
            [
             0.4444444444444444,
             "#bd3786"
            ],
            [
             0.5555555555555556,
             "#d8576b"
            ],
            [
             0.6666666666666666,
             "#ed7953"
            ],
            [
             0.7777777777777778,
             "#fb9f3a"
            ],
            [
             0.8888888888888888,
             "#fdca26"
            ],
            [
             1,
             "#f0f921"
            ]
           ]
          },
          "colorway": [
           "#636efa",
           "#EF553B",
           "#00cc96",
           "#ab63fa",
           "#FFA15A",
           "#19d3f3",
           "#FF6692",
           "#B6E880",
           "#FF97FF",
           "#FECB52"
          ],
          "font": {
           "color": "#2a3f5f"
          },
          "geo": {
           "bgcolor": "white",
           "lakecolor": "white",
           "landcolor": "#E5ECF6",
           "showlakes": true,
           "showland": true,
           "subunitcolor": "white"
          },
          "hoverlabel": {
           "align": "left"
          },
          "hovermode": "closest",
          "mapbox": {
           "style": "light"
          },
          "paper_bgcolor": "white",
          "plot_bgcolor": "#E5ECF6",
          "polar": {
           "angularaxis": {
            "gridcolor": "white",
            "linecolor": "white",
            "ticks": ""
           },
           "bgcolor": "#E5ECF6",
           "radialaxis": {
            "gridcolor": "white",
            "linecolor": "white",
            "ticks": ""
           }
          },
          "scene": {
           "xaxis": {
            "backgroundcolor": "#E5ECF6",
            "gridcolor": "white",
            "gridwidth": 2,
            "linecolor": "white",
            "showbackground": true,
            "ticks": "",
            "zerolinecolor": "white"
           },
           "yaxis": {
            "backgroundcolor": "#E5ECF6",
            "gridcolor": "white",
            "gridwidth": 2,
            "linecolor": "white",
            "showbackground": true,
            "ticks": "",
            "zerolinecolor": "white"
           },
           "zaxis": {
            "backgroundcolor": "#E5ECF6",
            "gridcolor": "white",
            "gridwidth": 2,
            "linecolor": "white",
            "showbackground": true,
            "ticks": "",
            "zerolinecolor": "white"
           }
          },
          "shapedefaults": {
           "line": {
            "color": "#2a3f5f"
           }
          },
          "ternary": {
           "aaxis": {
            "gridcolor": "white",
            "linecolor": "white",
            "ticks": ""
           },
           "baxis": {
            "gridcolor": "white",
            "linecolor": "white",
            "ticks": ""
           },
           "bgcolor": "#E5ECF6",
           "caxis": {
            "gridcolor": "white",
            "linecolor": "white",
            "ticks": ""
           }
          },
          "title": {
           "x": 0.05
          },
          "xaxis": {
           "automargin": true,
           "gridcolor": "white",
           "linecolor": "white",
           "ticks": "",
           "title": {
            "standoff": 15
           },
           "zerolinecolor": "white",
           "zerolinewidth": 2
          },
          "yaxis": {
           "automargin": true,
           "gridcolor": "white",
           "linecolor": "white",
           "ticks": "",
           "title": {
            "standoff": 15
           },
           "zerolinecolor": "white",
           "zerolinewidth": 2
          }
         }
        },
        "title": {
         "font": {
          "color": "#a5a7ab",
          "family": "roboto",
          "size": 25
         },
         "text": "Accelerometer & Gyroscope Columns Counts"
        },
        "width": 500,
        "xaxis": {
         "showgrid": false,
         "tickangle": 0,
         "title": {
          "text": "Activity"
         }
        },
        "yaxis": {
         "showgrid": false,
         "title": {
          "text": "Count"
         }
        }
       }
      }
     },
     "metadata": {},
     "output_type": "display_data"
    }
   ],
   "source": [
    "# Accelerometer & Gyroscope Columns Counts\n",
    "lin = 0\n",
    "acc = 0\n",
    "gyro = 0\n",
    "other = 0\n",
    "\n",
    "for value in df_train.columns:\n",
    "    if \"Linear\" in str(value):\n",
    "        lin += 1\n",
    "    elif \"Acc\" in str(value):\n",
    "        acc += 1\n",
    "    elif \"Gyro\" in str(value):\n",
    "        gyro += 1\n",
    "    else:\n",
    "        other += 1\n",
    "\n",
    "graph = go.Bar(x=['Accelerometer', 'Gyroscope', \"Linear\", 'Others'], y=[acc,gyro,lin,other], marker = dict(color = colors))\n",
    "layout = go.Layout(\n",
    "    height=450, width=500,\n",
    "    title = 'Accelerometer & Gyroscope Columns Counts',\n",
    "    xaxis = dict(title = 'Activity', tickangle=0, showgrid=False),\n",
    "    yaxis = dict(title = 'Count', showgrid=False),\n",
    "    plot_bgcolor='#2d3035', paper_bgcolor='#2d3035',\n",
    "    title_font=dict(size=25, color='#a5a7ab', family='roboto'),\n",
    "    margin=dict(t=80, b=30, l=70, r=40),\n",
    "    font=dict(color='#8a8d93'))\n",
    "fig = go.Figure(data=[graph], layout = layout)\n",
    "fig.update_traces(textfont=dict(color='#fff'), marker=dict(line=dict(color='#ffffff', width=2)))\n",
    "\n",
    "iplot(fig)"
   ]
  },
  {
   "cell_type": "markdown",
   "metadata": {},
   "source": [
    "```\n",
    "Below are the correlation matrices for the three different activities. The information below indicates that no significant results come from the correlation graphs.\n",
    "```"
   ]
  },
  {
   "cell_type": "code",
   "execution_count": null,
   "metadata": {},
   "outputs": [
    {
     "data": {
      "text/plain": [
       "walking                               1.000000\n",
       "Linear Acceleration y (m/s^2)_std     0.854779\n",
       "Linear Acceleration x (m/s^2)_std     0.838585\n",
       "Linear Acceleration x (m/s^2)_max     0.801277\n",
       "Gyroscope x (rad/s)_std               0.748054\n",
       "Gyroscope y (rad/s)_std               0.743683\n",
       "Gyroscope z (rad/s)_std               0.715002\n",
       "Acceleration x (m/s^2)_max            0.677213\n",
       "Gyroscope x (rad/s)_max               0.586792\n",
       "Acceleration x (m/s^2)_mean           0.576655\n",
       "Gyroscope z (rad/s)_max               0.493195\n",
       "Gyroscope y (rad/s)_max               0.484486\n",
       "Linear Acceleration z (m/s^2)_max     0.373078\n",
       "Linear Acceleration x (m/s^2)_mean    0.324364\n",
       "Linear Acceleration z (m/s^2)_mean    0.318132\n",
       "Acceleration y (m/s^2)_std            0.308860\n",
       "Linear Acceleration y (m/s^2)_max     0.283337\n",
       "Acceleration x (m/s^2)_std            0.227211\n",
       "Acceleration x (m/s^2)_min            0.155995\n",
       "Linear Acceleration z (m/s^2)_std     0.151835\n",
       "Acceleration z (m/s^2)_std            0.000855\n",
       "Acceleration z (m/s^2)_min           -0.037099\n",
       "Acceleration z (m/s^2)_max           -0.076040\n",
       "Gyroscope x (rad/s)_mean             -0.096662\n",
       "Gyroscope z (rad/s)_mean             -0.160348\n",
       "Gyroscope y (rad/s)_mean             -0.264225\n",
       "Acceleration y (m/s^2)_max           -0.281167\n",
       "Linear Acceleration z (m/s^2)_min    -0.312775\n",
       "Acceleration z (m/s^2)_mean          -0.343631\n",
       "walkingwith                          -0.484452\n",
       "drinking                             -0.515711\n",
       "Gyroscope x (rad/s)_min              -0.518043\n",
       "Gyroscope y (rad/s)_min              -0.521690\n",
       "Linear Acceleration x (m/s^2)_min    -0.615862\n",
       "Gyroscope z (rad/s)_min              -0.678160\n",
       "Linear Acceleration y (m/s^2)_mean   -0.791007\n",
       "Acceleration y (m/s^2)_min           -0.838996\n",
       "Linear Acceleration y (m/s^2)_min    -0.856651\n",
       "Acceleration y (m/s^2)_mean          -0.935236\n",
       "Name: walking, dtype: float64"
      ]
     },
     "metadata": {},
     "output_type": "display_data"
    }
   ],
   "source": [
    "corl = df_train.drop(['subject'], axis=1)\n",
    "encoded_columns = pd.get_dummies(corl['Activity'])\n",
    "corl = pd.concat([encoded_columns, corl.drop(columns=['Activity'])], axis=1)\n",
    "#print(corl)\n",
    "corr_matrix = corl.corr()\n",
    "corr_matrix[\"walking\"].sort_values(ascending=False)"
   ]
  },
  {
   "cell_type": "markdown",
   "metadata": {},
   "source": []
  },
  {
   "cell_type": "markdown",
   "metadata": {
    "id": "VY_GYjQSfWnF"
   },
   "source": [
    "# 5. Explore many different models and short-list the best ones.\n",
    "\n",
    "Explore / train and list the top 3 algorithms that score best on this dataset."
   ]
  },
  {
   "cell_type": "code",
   "execution_count": null,
   "metadata": {
    "id": "lAz7LbB2feBt"
   },
   "outputs": [],
   "source": [
    "# YOUR CODE HERE "
   ]
  },
  {
   "cell_type": "markdown",
   "metadata": {
    "id": "gwv3xz1wjows"
   },
   "source": [
    "```\n",
    "# Place your comments / conclusions / insight here\n",
    "```\n"
   ]
  },
  {
   "cell_type": "markdown",
   "metadata": {
    "id": "IIL2-EUJffYV"
   },
   "source": [
    "# 6. Fine-tune your models and combine them into a great solution.\n",
    "\n",
    "can you get better performance within a model? e.g if you use a KNN classifier how does it behave if you change K (k=3 vs k=5 vs k=?). Which parameters are here to tune in the chosen models? "
   ]
  },
  {
   "cell_type": "code",
   "execution_count": null,
   "metadata": {
    "id": "2bG5g80NfpMk"
   },
   "outputs": [],
   "source": [
    "# YOUR CODE HERE "
   ]
  },
  {
   "cell_type": "markdown",
   "metadata": {
    "id": "yvWBlVKeklAE"
   },
   "source": [
    "```\n",
    "# Place your comments / conclusions / insight here\n",
    "```\n"
   ]
  },
  {
   "cell_type": "markdown",
   "metadata": {
    "id": "mvnEhvXwfrlm"
   },
   "source": [
    "# 7. Present your solution.\n",
    "\n",
    "Explain why you would choose for a specific model"
   ]
  },
  {
   "cell_type": "code",
   "execution_count": null,
   "metadata": {
    "id": "A6NTnFVCfww-"
   },
   "outputs": [],
   "source": [
    "# YOUR CODE HERE "
   ]
  },
  {
   "cell_type": "markdown",
   "metadata": {
    "id": "82zdBc53kmb4"
   },
   "source": [
    "```\n",
    "# Place your comments / conclusions / insight here\n",
    "```\n"
   ]
  },
  {
   "cell_type": "markdown",
   "metadata": {
    "id": "X1hc2Ffofz79"
   },
   "source": [
    "# 8. Launch, monitor, and maintain your system.\n",
    "\n",
    "Can you Deployment the model?\n",
    "\n",
    "> NOTE: The app provides the option for remote access, so you are able to get live sensordata from the phone"
   ]
  },
  {
   "cell_type": "markdown",
   "metadata": {
    "id": "iJ1uQFlood1G"
   },
   "source": [
    "# 9. Additional Questions\n",
    "\n",
    "* Explain the chosen motions you chose to be classified. \n",
    "\n",
    "* Which of these motions is easier/harder to classify and why?\n",
    "\n",
    "* After your experience, which extra sensor data might help getting a better classifier and why?\n",
    "\n",
    "* Explain why you think that your chosen algorithm outperforms the rest? \n",
    "\n",
    "* While recording the same motions with the same sensor data, what do you think will help improving the performance of your models?\n"
   ]
  },
  {
   "cell_type": "markdown",
   "metadata": {
    "id": "vi5EGcnIoiyL"
   },
   "source": [
    "```\n",
    "# Place your comments / conclusions / insight here\n",
    "```\n"
   ]
  }
 ],
 "metadata": {
  "colab": {
   "name": "comparing-classifiers.ipynb",
   "provenance": []
  },
  "kernelspec": {
   "display_name": "base",
   "language": "python",
   "name": "python3"
  },
  "language_info": {
   "codemirror_mode": {
    "name": "ipython",
    "version": 3
   },
   "file_extension": ".py",
   "mimetype": "text/x-python",
   "name": "python",
   "nbconvert_exporter": "python",
   "pygments_lexer": "ipython3",
   "version": "3.12.7"
  }
 },
 "nbformat": 4,
 "nbformat_minor": 0
}
